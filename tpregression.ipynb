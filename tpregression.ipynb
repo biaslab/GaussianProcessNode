{
 "cells": [
  {
   "cell_type": "code",
   "execution_count": 2,
   "metadata": {},
   "outputs": [
    {
     "name": "stderr",
     "output_type": "stream",
     "text": [
      "\u001b[32m\u001b[1m  Activating\u001b[22m\u001b[39m project at `~/Documents/GaussianProcessNode`\n"
     ]
    }
   ],
   "source": [
    "using Pkg\n",
    "Pkg.activate(\".\")\n"
   ]
  },
  {
   "cell_type": "code",
   "execution_count": 3,
   "metadata": {},
   "outputs": [
    {
     "name": "stderr",
     "output_type": "stream",
     "text": [
      "\u001b[36m\u001b[1m[ \u001b[22m\u001b[39m\u001b[36m\u001b[1mInfo: \u001b[22m\u001b[39mPrecompiling ReactiveMP [a194aa59-28ba-4574-a09c-4a745416d6e3]\n",
      "WARNING: using StatsFuns.logmvbeta in module ReactiveMP conflicts with an existing identifier.\n",
      "WARNING: import of Base.minimum into ReactiveMP conflicts with an existing identifier; ignored.\n",
      "WARNING: Method definition entropy(Any) in module StatsBase at /Users/isenoz/.julia/packages/StatsBase/XgjIN/src/scalarstats.jl:755 overwritten in module ReactiveMP at /Users/isenoz/.julia/dev/ReactiveMP/src/nodes/gp.jl:53.\n",
      "  ** incremental compilation may be fatally broken for this module **\n",
      "\n",
      "WARNING: Method definition entropy(Any) in module ReactiveMP at /Users/isenoz/.julia/dev/ReactiveMP/src/nodes/gp.jl:53 overwritten at /Users/isenoz/.julia/dev/ReactiveMP/src/nodes/tp.jl:49.\n",
      "  ** incremental compilation may be fatally broken for this module **\n",
      "\n",
      "WARNING: Method definition make_productdist_message(Any, Any) in module ReactiveMP at /Users/isenoz/.julia/dev/ReactiveMP/src/rules/multiplication/out.jl:92 overwritten at /Users/isenoz/.julia/dev/ReactiveMP/src/rules/multiplication/A.jl:76.\n",
      "  ** incremental compilation may be fatally broken for this module **\n",
      "\n",
      "WARNING: Method definition rule(typeof(Base.:(*)), Base.Val{:A}, ReactiveMP.Marginalisation, Base.Val{(:out, :in)}, Tuple{ReactiveMP.Message{var\"#s1286\", A} where A where var\"#s1286\"<:(Union{ReactiveMP.NormalMeanPrecision{T}, ReactiveMP.NormalMeanVariance{T}, ReactiveMP.NormalWeightedMeanPrecision{T}} where T), ReactiveMP.Message{var\"#s1164\", A} where A where var\"#s1164\"<:(Distributions.LogNormal{T} where T<:Real)}, Nothing, Nothing, ReactiveMP.ProcessMeta, Any, Any) in module ReactiveMP at /Users/isenoz/.julia/dev/ReactiveMP/src/rule.jl:272 overwritten on the same line (check for duplicate calls to `include`).\n",
      "  ** incremental compilation may be fatally broken for this module **\n",
      "\n",
      "WARNING: Method definition circularize(Any) in module ReactiveMP at /Users/isenoz/.julia/dev/ReactiveMP/src/gpstrategy.jl:536 overwritten at /Users/isenoz/.julia/dev/ReactiveMP/src/rules/gp/params.jl:359.\n",
      "  ** incremental compilation may be fatally broken for this module **\n",
      "\n",
      "WARNING: Method definition fastinvmahalanobis(Any, Any, Any, Any, Any) in module ReactiveMP at /Users/isenoz/.julia/dev/ReactiveMP/src/gpstrategy.jl:587 overwritten at /Users/isenoz/.julia/dev/ReactiveMP/src/rules/gp/params.jl:371.\n",
      "  ** incremental compilation may be fatally broken for this module **\n",
      "\n",
      "WARNING: Method definition returnFFTstructures(Any) in module ReactiveMP at /Users/isenoz/.julia/dev/ReactiveMP/src/gpstrategy.jl:549 overwritten at /Users/isenoz/.julia/dev/ReactiveMP/src/rules/gp/params.jl:377.\n",
      "  ** incremental compilation may be fatally broken for this module **\n",
      "\n",
      "\u001b[36m\u001b[1m[ \u001b[22m\u001b[39m\u001b[36m\u001b[1mInfo: \u001b[22m\u001b[39mPrecompiling RxInfer [86711068-29c9-4ff7-b620-ae75d7495b3d]\n",
      "WARNING: Method definition entropy(Any) in module StatsBase at /Users/isenoz/.julia/packages/StatsBase/XgjIN/src/scalarstats.jl:755 overwritten in module ReactiveMP at /Users/isenoz/.julia/dev/ReactiveMP/src/nodes/tp.jl:49.\n",
      "  ** incremental compilation may be fatally broken for this module **\n",
      "\n",
      "WARNING: Method definition entropy(Any) in module ReactiveMP at /Users/isenoz/.julia/dev/ReactiveMP/src/nodes/tp.jl:49 overwritten at /Users/isenoz/.julia/dev/ReactiveMP/src/nodes/gp.jl:53.\n",
      "  ** incremental compilation may be fatally broken for this module **\n",
      "\n"
     ]
    }
   ],
   "source": [
    "using ReactiveMP, GraphPPL,RxInfer, Revise, KernelFunctions, LinearAlgebra"
   ]
  },
  {
   "cell_type": "code",
   "execution_count": 22,
   "metadata": {},
   "outputs": [],
   "source": [
    "xmin, xmax = -3, 3  # Bounds of the data\n",
    "N = 20# Number of samples\n",
    "xtrain = sort(rand(Uniform(xmin, xmax), N))\n",
    "xtest = collect(range(xmin - 0.1, xmax + 0.1; length=60));\n",
    "# xtest = sort(vcat(xtest,xtrain))\n",
    "precision = 100\n",
    "ytrain = sinc.(xtrain) + randn(N) * sqrt(1/precision);\n",
    "ytrain[10:11] =  ytrain[10:11] .+ 2\n",
    "f_true = sinc.(xtest);"
   ]
  },
  {
   "cell_type": "code",
   "execution_count": 23,
   "metadata": {},
   "outputs": [],
   "source": [
    "@model function tprocess(n,kernelfunc,meanfunc,train,test)\n",
    "    y = datavar(Float64,n)\n",
    "    x = randomprocess(test,train, ReactiveMP.CovarianceMatrixStrategy(FullCovarianceStrategy()))\n",
    "    x ~ GeneralizedTProcess(meanfunc,kernelfunc,100,log(2.0)) \n",
    "    for i=1:n \n",
    "        y[i] ~ NormalMeanPrecision(x, 100.0) where {meta=ProcessMeta(i)}\n",
    "    end\n",
    "end"
   ]
  },
  {
   "cell_type": "code",
   "execution_count": 27,
   "metadata": {},
   "outputs": [],
   "source": [
    "@model function gprocess(n,kernelfunc,meanfunc,train,test)\n",
    "    y = datavar(Float64,n)\n",
    "    x = randomprocess(test,train, ReactiveMP.CovarianceMatrixStrategy(FullCovarianceStrategy()))\n",
    "    x ~ GaussianProcess(meanfunc,kernelfunc,log(2.0)) \n",
    "    for i=1:n \n",
    "        y[i] ~ NormalMeanPrecision(x, 100.0) where {meta=ProcessMeta(i)}\n",
    "    end\n",
    "end"
   ]
  },
  {
   "cell_type": "code",
   "execution_count": 7,
   "metadata": {},
   "outputs": [],
   "source": [
    "# @constraints function gpconstraints()   \n",
    "#     q(x,γ) = q(x)q(γ)\n",
    "# end\n",
    "\n",
    "k_func(θ) =  with_lengthscale(Matern52Kernel(),θ)\n",
    "mean_func   = (x) -> 0.0;"
   ]
  },
  {
   "cell_type": "code",
   "execution_count": 24,
   "metadata": {},
   "outputs": [
    {
     "data": {
      "text/plain": [
       "Inference results:\n",
       "  Posteriors       | available for (x)\n"
      ]
     },
     "execution_count": 24,
     "metadata": {},
     "output_type": "execute_result"
    }
   ],
   "source": [
    "iresult_tp = inference(\n",
    "    model = tprocess(length(ytrain), k_func, mean_func, xtrain,xtest),\n",
    "    data  = (y = ytrain,),\n",
    "    free_energy = false,\n",
    ")\n"
   ]
  },
  {
   "cell_type": "code",
   "execution_count": 42,
   "metadata": {},
   "outputs": [],
   "source": [
    "mx_tp = mean(iresult_tp.posteriors[:x].data.finitemarginal)\n",
    "vx_tp = var(iresult_tp.posteriors[:x].data.finitemarginal);\n",
    "samples_tp = rand(iresult_tp.posteriors[:x].data.finitemarginal,100);"
   ]
  },
  {
   "cell_type": "code",
   "execution_count": 28,
   "metadata": {},
   "outputs": [
    {
     "data": {
      "text/plain": [
       "Inference results:\n",
       "  Posteriors       | available for (x)\n"
      ]
     },
     "execution_count": 28,
     "metadata": {},
     "output_type": "execute_result"
    }
   ],
   "source": [
    "iresult_gp = inference(\n",
    "    model = gprocess(length(ytrain), k_func, mean_func, xtrain,xtest),\n",
    "    data  = (y = ytrain,),\n",
    "    free_energy = false,\n",
    ")\n"
   ]
  },
  {
   "cell_type": "code",
   "execution_count": 40,
   "metadata": {},
   "outputs": [],
   "source": [
    "mx_gp = mean(iresult_gp.posteriors[:x].data.finitemarginal)\n",
    "vx_gp = var(iresult_gp.posteriors[:x].data.finitemarginal);\n",
    "samples_gp = rand(iresult_gp.posteriors[:x].data.finitemarginal,100);"
   ]
  },
  {
   "cell_type": "code",
   "execution_count": 52,
   "metadata": {},
   "outputs": [
    {
     "data": {
      "text/plain": [
       "\"/Users/isenoz/Documents/GaussianProcessNode/regresssion.svg\""
      ]
     },
     "execution_count": 52,
     "metadata": {},
     "output_type": "execute_result"
    }
   ],
   "source": [
    "using Plots, LaTeXStrings\n",
    "pgfplotsx()\n",
    "plot(xtest,mx_tp,ribbon=sqrt.(vx_tp),color=:blue, lw=2.0,size=(800,400),fillalpha=0.2,label=\"t-process\")\n",
    "plot!(xtest,mx_gp,ribbon=sqrt.(vx_gp),color=:green, lw=2.0,fillalpha=0.2,legend=:topleft,label=\"gaussian process\")\n",
    "scatter!(xtrain,ytrain,color=:black,ms=1.0,label=\"observations\")\n",
    "plot!(xtest, f_true, color=:black, lw=2.0,label=\"true function\")\n",
    "xlabel!(L\"x\")\n",
    "ylabel!(L\"f(x)\")\n",
    "savefig(\"regresssion.svg\")"
   ]
  },
  {
   "cell_type": "code",
   "execution_count": 53,
   "metadata": {},
   "outputs": [
    {
     "data": {
      "text/plain": [
       "\"/Users/isenoz/Documents/GaussianProcessNode/samples.svg\""
      ]
     },
     "execution_count": 53,
     "metadata": {},
     "output_type": "execute_result"
    }
   ],
   "source": [
    "plot(samples_tp,color=:blue,alpha=0.2,label=false,size=(800,400))\n",
    "plot!(samples_gp,color=:green,alpha=0.2,label=false,size=(800,400))\n",
    "xlabel!(L\"x\")\n",
    "ylabel!(L\"f(x)\")\n",
    "savefig(\"samples.svg\")"
   ]
  },
  {
   "cell_type": "code",
   "execution_count": null,
   "metadata": {},
   "outputs": [],
   "source": []
  }
 ],
 "metadata": {
  "@webio": {
   "lastCommId": null,
   "lastKernelId": null
  },
  "kernelspec": {
   "display_name": "Julia 1.8.5",
   "language": "julia",
   "name": "julia-1.8"
  },
  "language_info": {
   "file_extension": ".jl",
   "mimetype": "application/julia",
   "name": "julia",
   "version": "1.8.5"
  }
 },
 "nbformat": 4,
 "nbformat_minor": 2
}
