{
 "cells": [
  {
   "cell_type": "code",
   "execution_count": 1,
   "metadata": {},
   "outputs": [],
   "source": [
    "using ReactiveMP, Rocket, GraphPPL\n",
    "using KernelFunctions, LinearAlgebra, Random, Plots\n",
    "using Distributions "
   ]
  },
  {
   "cell_type": "markdown",
   "metadata": {},
   "source": [
    "## Regression model\n",
    "Consider the following model:\n",
    "\\begin{align}\n",
    "y_i &= f(x_i) \\\\\n",
    "t_i &= y_i + \\epsilon_i, \\quad \\quad \\epsilon_i \\sim \\mathcal{N}(0, \\sigma^2)\n",
    "\\end{align}\n",
    "where $x_i$ represents the input, $y_i$ the function value evaluated at $x_i$, and $t_i$ the noisy observation of $y_i$. \n",
    "The noise variance $\\sigma$ is known. All variables are 1-D. \n",
    "\n",
    "The function $f(x)$ is unknown and our goal is to find $f(x)$ by Gaussian Process (GP).  "
   ]
  },
  {
   "cell_type": "markdown",
   "metadata": {},
   "source": [
    "## 1) Create meta"
   ]
  },
  {
   "cell_type": "code",
   "execution_count": 2,
   "metadata": {},
   "outputs": [
    {
     "data": {
      "text/plain": [
       "get_kernel (generic function with 1 method)"
      ]
     },
     "execution_count": 2,
     "metadata": {},
     "output_type": "execute_result"
    }
   ],
   "source": [
    "\"\"\"\n",
    "We create a \"meta\" structure to store the information of the GP. This structure includes\n",
    "x::X : the pseudo input points  \n",
    "θ::T : the hyperparameters of kernels, including \"magnitude scale\" θ[1] and \"length-scale\" θ[2]\n",
    "kernel::K : the kernel of GP. \n",
    "\n",
    "Note that in this notebook, we assume GP is zero-mean, so we don't store the mean function inside the \"meta\" structure \n",
    "\"\"\"\n",
    "mutable struct GPMeta{X,T,K}\n",
    "    x::X\n",
    "    θ::T\n",
    "    kernel::K \n",
    "end\n",
    "## Note that here I assume the GP is zero-mean, so we only need to define kernel\n",
    "get_x(meta::GPMeta) = meta.x # this is a collection of inducing points x = [x_1, x_2, ..., x_m]\n",
    "get_params(meta::GPMeta) = meta.θ  # θ stores magnitude scale θ[1] and length-scale θ[2] \n",
    "get_kernel(meta::GPMeta) = meta.kernel\n"
   ]
  },
  {
   "cell_type": "markdown",
   "metadata": {},
   "source": [
    "## 2) Create GPPrior node"
   ]
  },
  {
   "cell_type": "code",
   "execution_count": 3,
   "metadata": {},
   "outputs": [],
   "source": [
    "struct GPPrior end\n",
    "\n",
    "@node GPPrior Stochastic [out]"
   ]
  },
  {
   "cell_type": "markdown",
   "metadata": {},
   "source": [
    "### Rules for GPPrior node "
   ]
  },
  {
   "cell_type": "code",
   "execution_count": 4,
   "metadata": {},
   "outputs": [],
   "source": [
    "@rule GPPrior(:out, Marginalisation) (meta::GPMeta, ) = begin \n",
    "    x = get_x(meta) #get inducing points\n",
    "    θ = get_params(meta) #get hyperparameters\n",
    "    k = get_kernel(meta) # this is the kernel without any additional parameters from users\n",
    "    kernel = θ[1] * with_lengthscale(k, θ[2]) #add parameters to the kernel\n",
    "\n",
    "    K_xx = kernelmatrix(kernel, x) # compute the covariance matrix from x \n",
    "    \n",
    "    return MvNormalMeanCovariance(zeros(length(x)),K_xx)\n",
    "end"
   ]
  },
  {
   "cell_type": "markdown",
   "metadata": {},
   "source": [
    "## 3) Create GPPrediction Node"
   ]
  },
  {
   "cell_type": "code",
   "execution_count": 5,
   "metadata": {},
   "outputs": [],
   "source": [
    "struct GPPrediction end\n",
    "\n",
    "@node GPPrediction Stochastic [out, in, f]"
   ]
  },
  {
   "cell_type": "markdown",
   "metadata": {},
   "source": [
    "### Rules for GPPrediction node"
   ]
  },
  {
   "cell_type": "code",
   "execution_count": 6,
   "metadata": {},
   "outputs": [],
   "source": [
    "## forward message toward \"out\" \n",
    "@rule GPPrediction(:out, Marginalisation) (q_in::PointMass, q_f::MultivariateNormalDistributionsFamily, meta::GPMeta,) = begin\n",
    "    x_i = mean(q_in) # get input x_i\n",
    "    k = get_kernel(meta) # get kernel\n",
    "    θ = get_params(meta) # get hyperparameters\n",
    "\n",
    "    kernel = θ[1] * with_lengthscale(k, θ[2]) # kernel with user hyperparameters\n",
    "    \n",
    "    #compute k_xx\n",
    "    k_xx = kernelmatrix(kernel,[x_i])[] \n",
    "\n",
    "    return NormalMeanVariance(0, k_xx)\n",
    "end\n",
    "\n",
    "\n",
    "## backward message toward \"f\"\n",
    "@rule GPPrediction(:f, Marginalisation) (m_out::UnivariateNormalDistributionsFamily, q_in::PointMass, meta::GPMeta,) = begin\n",
    "    x_i = mean(q_in)\n",
    "    mean_out, var_out = mean_cov(m_out)\n",
    "\n",
    "    k = get_kernel(meta)\n",
    "    X = get_x(meta) # X from meta\n",
    "    θ = get_params(meta)\n",
    "\n",
    "    kernel = θ[1] * with_lengthscale(k, θ[2]) # kernel with user hyperparameters\n",
    "\n",
    "    K_xx = kernelmatrix(kernel, X) #+ 1e-9*diageye(length(X))#covariance matrix from meta \n",
    "    if typeof(x_i) <: Vector\n",
    "        K_x = kernelmatrix(kernel, X, x_i) # k_xi the cross-covariance matrix k(X,x_i) between X from meta and x_i \n",
    "    else\n",
    "        K_x = kernelmatrix(kernel, X, [x_i]) # in this case, x_i is scalar, so we convert it to vector\n",
    "    end\n",
    "\n",
    "    α  = inv(K_xx) * K_x\n",
    "    A = α * α' + 1e-9*diageye(length(α))\n",
    "\n",
    "    σ_p² = kernelmatrix(kernel, [x_i]) - K_x' * inv(K_xx) * K_x # predictive variance inside the GPPrediction node   \n",
    "\n",
    "    # compute the mean and the covariance of the backward message toward \"f\"\n",
    "    m = inv(A) * mean_out * α  \n",
    "    Σ = (var_out + σ_p²[]) .* inv(A) # the covariance matrix of the backward message toward \"in\" \n",
    "\n",
    "    return MvNormalMeanCovariance(vec(m), Σ)\n",
    "end "
   ]
  },
  {
   "cell_type": "markdown",
   "metadata": {},
   "source": [
    "## Model"
   ]
  },
  {
   "cell_type": "code",
   "execution_count": 7,
   "metadata": {},
   "outputs": [],
   "source": [
    "@model function gp_regress(input, X, kernel, θ, n, σ²)\n",
    "    f ~ GPPrior() where {meta = GPMeta(X, θ, kernel)}\n",
    "\n",
    "    y = randomvar(n)\n",
    "    t = datavar(Float64,n)\n",
    "\n",
    "    for i=1:n\n",
    "        y[i] ~ GPPrediction(input[i],f) where {meta = GPMeta(X, θ, kernel)}\n",
    "        t[i] ~ NormalMeanVariance(y[i],σ²)\n",
    "    end\n",
    "\n",
    "    return f, y, t\n",
    "end"
   ]
  },
  {
   "cell_type": "markdown",
   "metadata": {},
   "source": [
    "## Inference"
   ]
  },
  {
   "cell_type": "code",
   "execution_count": 8,
   "metadata": {},
   "outputs": [
    {
     "data": {
      "text/plain": [
       "inference (generic function with 1 method)"
      ]
     },
     "execution_count": 8,
     "metadata": {},
     "output_type": "execute_result"
    }
   ],
   "source": [
    "function inference(input, output, X, kernel, θ, σ²)\n",
    "    n = length(output)\n",
    "    model, (f,y,t) = gp_regress(model_options(limit_stack_depth=100), input, X, kernel, θ, n, σ²)\n",
    "\n",
    "    marginal_f = keep(Marginal)\n",
    "    subscription = subscribe!(getmarginal(f), marginal_f)\n",
    "\n",
    "    update!(t, output)\n",
    "    unsubscribe!(subscription)\n",
    "    return marginal_f\n",
    "end"
   ]
  },
  {
   "cell_type": "markdown",
   "metadata": {},
   "source": [
    "## Generate data"
   ]
  },
  {
   "cell_type": "code",
   "execution_count": 9,
   "metadata": {},
   "outputs": [
    {
     "name": "stdout",
     "output_type": "stream",
     "text": [
      "length(pos) = 19\n"
     ]
    }
   ],
   "source": [
    "Random.seed!(14)\n",
    "x_input = range(0, 5, length=100); #input\n",
    "f_true = 2*sin.(x_input) .+ cos.(2*x_input); # true process\n",
    "\n",
    "#pos = sort(randperm(length(x_input))[20:5:100]); # position where we observe data\n",
    "pos = collect(10:5:100)\n",
    "@show length(pos)\n",
    "x_obser = x_input[pos]; # x-positions of observed point\n",
    "\n",
    "σ² = 0.2\n",
    "y_obser = f_true[pos] + σ²*randn(length(x_obser)); # noisy observation\n",
    "#for meta information\n",
    "X = collect(x_input)\n",
    "θ = [1., .153]; # θ = [σ², length-scale]"
   ]
  },
  {
   "cell_type": "code",
   "execution_count": 10,
   "metadata": {},
   "outputs": [],
   "source": [
    "f_estimate = inference(x_obser, y_obser, X, SEKernel(), θ, σ²);"
   ]
  },
  {
   "cell_type": "code",
   "execution_count": 11,
   "metadata": {},
   "outputs": [],
   "source": [
    "meanfunc, covmatrix = mean_cov(f_estimate.values[]);\n",
    "variance = diag(covmatrix); # take out the main diagonal of covariance matrix  "
   ]
  },
  {
   "cell_type": "code",
   "execution_count": 12,
   "metadata": {},
   "outputs": [
    {
     "data": {
      "image/svg+xml": "<?xml version=\"1.0\" encoding=\"utf-8\"?>\n<svg xmlns=\"http://www.w3.org/2000/svg\" xmlns:xlink=\"http://www.w3.org/1999/xlink\" width=\"600\" height=\"400\" viewBox=\"0 0 2400 1600\">\n<defs>\n  <clipPath id=\"clip990\">\n    <rect x=\"0\" y=\"0\" width=\"2400\" height=\"1600\"/>\n  </clipPath>\n</defs>\n<path clip-path=\"url(#clip990)\" d=\"\nM0 1600 L2400 1600 L2400 0 L0 0  Z\n  \" fill=\"#ffffff\" fill-rule=\"evenodd\" fill-opacity=\"1\"/>\n<defs>\n  <clipPath id=\"clip991\">\n    <rect x=\"480\" y=\"0\" width=\"1681\" height=\"1600\"/>\n  </clipPath>\n</defs>\n<path clip-path=\"url(#clip990)\" d=\"\nM148.057 1486.45 L2352.76 1486.45 L2352.76 47.2441 L148.057 47.2441  Z\n  \" fill=\"#ffffff\" fill-rule=\"evenodd\" fill-opacity=\"1\"/>\n<defs>\n  <clipPath id=\"clip992\">\n    <rect x=\"148\" y=\"47\" width=\"2206\" height=\"1440\"/>\n  </clipPath>\n</defs>\n<polyline clip-path=\"url(#clip992)\" style=\"stroke:#000000; stroke-linecap:butt; stroke-linejoin:round; stroke-width:2; stroke-opacity:0.1; fill:none\" points=\"\n  210.454,1486.45 210.454,47.2441 \n  \"/>\n<polyline clip-path=\"url(#clip992)\" style=\"stroke:#000000; stroke-linecap:butt; stroke-linejoin:round; stroke-width:2; stroke-opacity:0.1; fill:none\" points=\"\n  626.435,1486.45 626.435,47.2441 \n  \"/>\n<polyline clip-path=\"url(#clip992)\" style=\"stroke:#000000; stroke-linecap:butt; stroke-linejoin:round; stroke-width:2; stroke-opacity:0.1; fill:none\" points=\"\n  1042.42,1486.45 1042.42,47.2441 \n  \"/>\n<polyline clip-path=\"url(#clip992)\" style=\"stroke:#000000; stroke-linecap:butt; stroke-linejoin:round; stroke-width:2; stroke-opacity:0.1; fill:none\" points=\"\n  1458.4,1486.45 1458.4,47.2441 \n  \"/>\n<polyline clip-path=\"url(#clip992)\" style=\"stroke:#000000; stroke-linecap:butt; stroke-linejoin:round; stroke-width:2; stroke-opacity:0.1; fill:none\" points=\"\n  1874.38,1486.45 1874.38,47.2441 \n  \"/>\n<polyline clip-path=\"url(#clip992)\" style=\"stroke:#000000; stroke-linecap:butt; stroke-linejoin:round; stroke-width:2; stroke-opacity:0.1; fill:none\" points=\"\n  2290.36,1486.45 2290.36,47.2441 \n  \"/>\n<polyline clip-path=\"url(#clip990)\" style=\"stroke:#000000; stroke-linecap:butt; stroke-linejoin:round; stroke-width:4; stroke-opacity:1; fill:none\" points=\"\n  148.057,1486.45 2352.76,1486.45 \n  \"/>\n<polyline clip-path=\"url(#clip990)\" style=\"stroke:#000000; stroke-linecap:butt; stroke-linejoin:round; stroke-width:4; stroke-opacity:1; fill:none\" points=\"\n  210.454,1486.45 210.454,1467.55 \n  \"/>\n<polyline clip-path=\"url(#clip990)\" style=\"stroke:#000000; stroke-linecap:butt; stroke-linejoin:round; stroke-width:4; stroke-opacity:1; fill:none\" points=\"\n  626.435,1486.45 626.435,1467.55 \n  \"/>\n<polyline clip-path=\"url(#clip990)\" style=\"stroke:#000000; stroke-linecap:butt; stroke-linejoin:round; stroke-width:4; stroke-opacity:1; fill:none\" points=\"\n  1042.42,1486.45 1042.42,1467.55 \n  \"/>\n<polyline clip-path=\"url(#clip990)\" style=\"stroke:#000000; stroke-linecap:butt; stroke-linejoin:round; stroke-width:4; stroke-opacity:1; fill:none\" points=\"\n  1458.4,1486.45 1458.4,1467.55 \n  \"/>\n<polyline clip-path=\"url(#clip990)\" style=\"stroke:#000000; stroke-linecap:butt; stroke-linejoin:round; stroke-width:4; stroke-opacity:1; fill:none\" points=\"\n  1874.38,1486.45 1874.38,1467.55 \n  \"/>\n<polyline clip-path=\"url(#clip990)\" style=\"stroke:#000000; stroke-linecap:butt; stroke-linejoin:round; stroke-width:4; stroke-opacity:1; fill:none\" points=\"\n  2290.36,1486.45 2290.36,1467.55 \n  \"/>\n<path clip-path=\"url(#clip990)\" d=\"M210.454 1517.37 Q206.843 1517.37 205.014 1520.93 Q203.208 1524.47 203.208 1531.6 Q203.208 1538.71 205.014 1542.27 Q206.843 1545.82 210.454 1545.82 Q214.088 1545.82 215.894 1542.27 Q217.722 1538.71 217.722 1531.6 Q217.722 1524.47 215.894 1520.93 Q214.088 1517.37 210.454 1517.37 M210.454 1513.66 Q216.264 1513.66 219.319 1518.27 Q222.398 1522.85 222.398 1531.6 Q222.398 1540.33 219.319 1544.94 Q216.264 1549.52 210.454 1549.52 Q204.644 1549.52 201.565 1544.94 Q198.509 1540.33 198.509 1531.6 Q198.509 1522.85 201.565 1518.27 Q204.644 1513.66 210.454 1513.66 Z\" fill=\"#000000\" fill-rule=\"evenodd\" fill-opacity=\"1\" /><path clip-path=\"url(#clip990)\" d=\"M616.817 1544.91 L624.456 1544.91 L624.456 1518.55 L616.145 1520.21 L616.145 1515.95 L624.409 1514.29 L629.085 1514.29 L629.085 1544.91 L636.724 1544.91 L636.724 1548.85 L616.817 1548.85 L616.817 1544.91 Z\" fill=\"#000000\" fill-rule=\"evenodd\" fill-opacity=\"1\" /><path clip-path=\"url(#clip990)\" d=\"M1037.07 1544.91 L1053.39 1544.91 L1053.39 1548.85 L1031.44 1548.85 L1031.44 1544.91 Q1034.11 1542.16 1038.69 1537.53 Q1043.3 1532.88 1044.48 1531.53 Q1046.72 1529.01 1047.6 1527.27 Q1048.5 1525.51 1048.5 1523.82 Q1048.5 1521.07 1046.56 1519.33 Q1044.64 1517.6 1041.54 1517.6 Q1039.34 1517.6 1036.88 1518.36 Q1034.45 1519.13 1031.68 1520.68 L1031.68 1515.95 Q1034.5 1514.82 1036.95 1514.24 Q1039.41 1513.66 1041.44 1513.66 Q1046.81 1513.66 1050.01 1516.35 Q1053.2 1519.03 1053.2 1523.52 Q1053.2 1525.65 1052.39 1527.57 Q1051.61 1529.47 1049.5 1532.07 Q1048.92 1532.74 1045.82 1535.95 Q1042.72 1539.15 1037.07 1544.91 Z\" fill=\"#000000\" fill-rule=\"evenodd\" fill-opacity=\"1\" /><path clip-path=\"url(#clip990)\" d=\"M1462.64 1530.21 Q1466 1530.93 1467.88 1533.2 Q1469.77 1535.47 1469.77 1538.8 Q1469.77 1543.92 1466.26 1546.72 Q1462.74 1549.52 1456.26 1549.52 Q1454.08 1549.52 1451.76 1549.08 Q1449.47 1548.66 1447.02 1547.81 L1447.02 1543.29 Q1448.96 1544.43 1451.28 1545.01 Q1453.59 1545.58 1456.12 1545.58 Q1460.51 1545.58 1462.81 1543.85 Q1465.12 1542.11 1465.12 1538.8 Q1465.12 1535.75 1462.97 1534.03 Q1460.84 1532.3 1457.02 1532.3 L1452.99 1532.3 L1452.99 1528.45 L1457.2 1528.45 Q1460.65 1528.45 1462.48 1527.09 Q1464.31 1525.7 1464.31 1523.11 Q1464.31 1520.45 1462.41 1519.03 Q1460.54 1517.6 1457.02 1517.6 Q1455.1 1517.6 1452.9 1518.01 Q1450.7 1518.43 1448.06 1519.31 L1448.06 1515.14 Q1450.72 1514.4 1453.04 1514.03 Q1455.38 1513.66 1457.44 1513.66 Q1462.76 1513.66 1465.86 1516.09 Q1468.96 1518.5 1468.96 1522.62 Q1468.96 1525.49 1467.32 1527.48 Q1465.68 1529.45 1462.64 1530.21 Z\" fill=\"#000000\" fill-rule=\"evenodd\" fill-opacity=\"1\" /><path clip-path=\"url(#clip990)\" d=\"M1877.39 1518.36 L1865.58 1536.81 L1877.39 1536.81 L1877.39 1518.36 M1876.16 1514.29 L1882.04 1514.29 L1882.04 1536.81 L1886.97 1536.81 L1886.97 1540.7 L1882.04 1540.7 L1882.04 1548.85 L1877.39 1548.85 L1877.39 1540.7 L1861.79 1540.7 L1861.79 1536.19 L1876.16 1514.29 Z\" fill=\"#000000\" fill-rule=\"evenodd\" fill-opacity=\"1\" /><path clip-path=\"url(#clip990)\" d=\"M2280.64 1514.29 L2298.99 1514.29 L2298.99 1518.22 L2284.92 1518.22 L2284.92 1526.7 Q2285.94 1526.35 2286.96 1526.19 Q2287.97 1526 2288.99 1526 Q2294.78 1526 2298.16 1529.17 Q2301.54 1532.34 2301.54 1537.76 Q2301.54 1543.34 2298.07 1546.44 Q2294.59 1549.52 2288.28 1549.52 Q2286.1 1549.52 2283.83 1549.15 Q2281.59 1548.78 2279.18 1548.04 L2279.18 1543.34 Q2281.26 1544.47 2283.48 1545.03 Q2285.71 1545.58 2288.18 1545.58 Q2292.19 1545.58 2294.53 1543.48 Q2296.86 1541.37 2296.86 1537.76 Q2296.86 1534.15 2294.53 1532.04 Q2292.19 1529.94 2288.18 1529.94 Q2286.31 1529.94 2284.43 1530.35 Q2282.58 1530.77 2280.64 1531.65 L2280.64 1514.29 Z\" fill=\"#000000\" fill-rule=\"evenodd\" fill-opacity=\"1\" /><polyline clip-path=\"url(#clip992)\" style=\"stroke:#000000; stroke-linecap:butt; stroke-linejoin:round; stroke-width:2; stroke-opacity:0.1; fill:none\" points=\"\n  148.057,1372.62 2352.76,1372.62 \n  \"/>\n<polyline clip-path=\"url(#clip992)\" style=\"stroke:#000000; stroke-linecap:butt; stroke-linejoin:round; stroke-width:2; stroke-opacity:0.1; fill:none\" points=\"\n  148.057,1160.71 2352.76,1160.71 \n  \"/>\n<polyline clip-path=\"url(#clip992)\" style=\"stroke:#000000; stroke-linecap:butt; stroke-linejoin:round; stroke-width:2; stroke-opacity:0.1; fill:none\" points=\"\n  148.057,948.8 2352.76,948.8 \n  \"/>\n<polyline clip-path=\"url(#clip992)\" style=\"stroke:#000000; stroke-linecap:butt; stroke-linejoin:round; stroke-width:2; stroke-opacity:0.1; fill:none\" points=\"\n  148.057,736.891 2352.76,736.891 \n  \"/>\n<polyline clip-path=\"url(#clip992)\" style=\"stroke:#000000; stroke-linecap:butt; stroke-linejoin:round; stroke-width:2; stroke-opacity:0.1; fill:none\" points=\"\n  148.057,524.982 2352.76,524.982 \n  \"/>\n<polyline clip-path=\"url(#clip992)\" style=\"stroke:#000000; stroke-linecap:butt; stroke-linejoin:round; stroke-width:2; stroke-opacity:0.1; fill:none\" points=\"\n  148.057,313.073 2352.76,313.073 \n  \"/>\n<polyline clip-path=\"url(#clip992)\" style=\"stroke:#000000; stroke-linecap:butt; stroke-linejoin:round; stroke-width:2; stroke-opacity:0.1; fill:none\" points=\"\n  148.057,101.164 2352.76,101.164 \n  \"/>\n<polyline clip-path=\"url(#clip990)\" style=\"stroke:#000000; stroke-linecap:butt; stroke-linejoin:round; stroke-width:4; stroke-opacity:1; fill:none\" points=\"\n  148.057,1486.45 148.057,47.2441 \n  \"/>\n<polyline clip-path=\"url(#clip990)\" style=\"stroke:#000000; stroke-linecap:butt; stroke-linejoin:round; stroke-width:4; stroke-opacity:1; fill:none\" points=\"\n  148.057,1372.62 166.954,1372.62 \n  \"/>\n<polyline clip-path=\"url(#clip990)\" style=\"stroke:#000000; stroke-linecap:butt; stroke-linejoin:round; stroke-width:4; stroke-opacity:1; fill:none\" points=\"\n  148.057,1160.71 166.954,1160.71 \n  \"/>\n<polyline clip-path=\"url(#clip990)\" style=\"stroke:#000000; stroke-linecap:butt; stroke-linejoin:round; stroke-width:4; stroke-opacity:1; fill:none\" points=\"\n  148.057,948.8 166.954,948.8 \n  \"/>\n<polyline clip-path=\"url(#clip990)\" style=\"stroke:#000000; stroke-linecap:butt; stroke-linejoin:round; stroke-width:4; stroke-opacity:1; fill:none\" points=\"\n  148.057,736.891 166.954,736.891 \n  \"/>\n<polyline clip-path=\"url(#clip990)\" style=\"stroke:#000000; stroke-linecap:butt; stroke-linejoin:round; stroke-width:4; stroke-opacity:1; fill:none\" points=\"\n  148.057,524.982 166.954,524.982 \n  \"/>\n<polyline clip-path=\"url(#clip990)\" style=\"stroke:#000000; stroke-linecap:butt; stroke-linejoin:round; stroke-width:4; stroke-opacity:1; fill:none\" points=\"\n  148.057,313.073 166.954,313.073 \n  \"/>\n<polyline clip-path=\"url(#clip990)\" style=\"stroke:#000000; stroke-linecap:butt; stroke-linejoin:round; stroke-width:4; stroke-opacity:1; fill:none\" points=\"\n  148.057,101.164 166.954,101.164 \n  \"/>\n<path clip-path=\"url(#clip990)\" d=\"M50.9921 1373.07 L80.6679 1373.07 L80.6679 1377 L50.9921 1377 L50.9921 1373.07 Z\" fill=\"#000000\" fill-rule=\"evenodd\" fill-opacity=\"1\" /><path clip-path=\"url(#clip990)\" d=\"M104.927 1371.26 Q108.283 1371.98 110.158 1374.25 Q112.057 1376.52 112.057 1379.85 Q112.057 1384.97 108.538 1387.77 Q105.02 1390.57 98.5382 1390.57 Q96.3623 1390.57 94.0475 1390.13 Q91.7558 1389.71 89.3021 1388.86 L89.3021 1384.34 Q91.2465 1385.48 93.5613 1386.05 Q95.8761 1386.63 98.3993 1386.63 Q102.797 1386.63 105.089 1384.9 Q107.404 1383.16 107.404 1379.85 Q107.404 1376.8 105.251 1375.08 Q103.121 1373.35 99.3021 1373.35 L95.2743 1373.35 L95.2743 1369.5 L99.4872 1369.5 Q102.936 1369.5 104.765 1368.14 Q106.594 1366.75 106.594 1364.16 Q106.594 1361.49 104.696 1360.08 Q102.821 1358.65 99.3021 1358.65 Q97.3808 1358.65 95.1817 1359.06 Q92.9826 1359.48 90.3438 1360.36 L90.3438 1356.19 Q93.0058 1355.45 95.3206 1355.08 Q97.6585 1354.71 99.7187 1354.71 Q105.043 1354.71 108.145 1357.14 Q111.246 1359.55 111.246 1363.67 Q111.246 1366.54 109.603 1368.53 Q107.959 1370.5 104.927 1371.26 Z\" fill=\"#000000\" fill-rule=\"evenodd\" fill-opacity=\"1\" /><path clip-path=\"url(#clip990)\" d=\"M51.9412 1161.16 L81.617 1161.16 L81.617 1165.1 L51.9412 1165.1 L51.9412 1161.16 Z\" fill=\"#000000\" fill-rule=\"evenodd\" fill-opacity=\"1\" /><path clip-path=\"url(#clip990)\" d=\"M95.7373 1174.05 L112.057 1174.05 L112.057 1177.99 L90.1123 1177.99 L90.1123 1174.05 Q92.7743 1171.3 97.3576 1166.67 Q101.964 1162.02 103.145 1160.67 Q105.39 1158.15 106.27 1156.41 Q107.172 1154.66 107.172 1152.97 Q107.172 1150.21 105.228 1148.47 Q103.307 1146.74 100.205 1146.74 Q98.0058 1146.74 95.5521 1147.5 Q93.1215 1148.27 90.3438 1149.82 L90.3438 1145.1 Q93.1678 1143.96 95.6215 1143.38 Q98.0752 1142.8 100.112 1142.8 Q105.483 1142.8 108.677 1145.49 Q111.871 1148.17 111.871 1152.66 Q111.871 1154.79 111.061 1156.72 Q110.274 1158.61 108.168 1161.21 Q107.589 1161.88 104.487 1165.1 Q101.385 1168.29 95.7373 1174.05 Z\" fill=\"#000000\" fill-rule=\"evenodd\" fill-opacity=\"1\" /><path clip-path=\"url(#clip990)\" d=\"M51.5708 949.251 L81.2466 949.251 L81.2466 953.186 L51.5708 953.186 L51.5708 949.251 Z\" fill=\"#000000\" fill-rule=\"evenodd\" fill-opacity=\"1\" /><path clip-path=\"url(#clip990)\" d=\"M92.1493 962.144 L99.7882 962.144 L99.7882 935.779 L91.478 937.446 L91.478 933.186 L99.7419 931.52 L104.418 931.52 L104.418 962.144 L112.057 962.144 L112.057 966.08 L92.1493 966.08 L92.1493 962.144 Z\" fill=\"#000000\" fill-rule=\"evenodd\" fill-opacity=\"1\" /><path clip-path=\"url(#clip990)\" d=\"M100.112 722.689 Q96.5011 722.689 94.6724 726.254 Q92.8669 729.796 92.8669 736.925 Q92.8669 744.032 94.6724 747.597 Q96.5011 751.138 100.112 751.138 Q103.746 751.138 105.552 747.597 Q107.381 744.032 107.381 736.925 Q107.381 729.796 105.552 726.254 Q103.746 722.689 100.112 722.689 M100.112 718.986 Q105.922 718.986 108.978 723.592 Q112.057 728.175 112.057 736.925 Q112.057 745.652 108.978 750.259 Q105.922 754.842 100.112 754.842 Q94.3021 754.842 91.2234 750.259 Q88.1679 745.652 88.1679 736.925 Q88.1679 728.175 91.2234 723.592 Q94.3021 718.986 100.112 718.986 Z\" fill=\"#000000\" fill-rule=\"evenodd\" fill-opacity=\"1\" /><path clip-path=\"url(#clip990)\" d=\"M92.1493 538.327 L99.7882 538.327 L99.7882 511.961 L91.478 513.628 L91.478 509.368 L99.7419 507.702 L104.418 507.702 L104.418 538.327 L112.057 538.327 L112.057 542.262 L92.1493 542.262 L92.1493 538.327 Z\" fill=\"#000000\" fill-rule=\"evenodd\" fill-opacity=\"1\" /><path clip-path=\"url(#clip990)\" d=\"M95.7373 326.418 L112.057 326.418 L112.057 330.353 L90.1123 330.353 L90.1123 326.418 Q92.7743 323.663 97.3576 319.033 Q101.964 314.381 103.145 313.038 Q105.39 310.515 106.27 308.779 Q107.172 307.02 107.172 305.33 Q107.172 302.575 105.228 300.839 Q103.307 299.103 100.205 299.103 Q98.0058 299.103 95.5521 299.867 Q93.1215 300.631 90.3438 302.182 L90.3438 297.459 Q93.1678 296.325 95.6215 295.746 Q98.0752 295.168 100.112 295.168 Q105.483 295.168 108.677 297.853 Q111.871 300.538 111.871 305.029 Q111.871 307.158 111.061 309.08 Q110.274 310.978 108.168 313.57 Q107.589 314.242 104.487 317.459 Q101.385 320.654 95.7373 326.418 Z\" fill=\"#000000\" fill-rule=\"evenodd\" fill-opacity=\"1\" /><path clip-path=\"url(#clip990)\" d=\"M104.927 99.8096 Q108.283 100.527 110.158 102.796 Q112.057 105.064 112.057 108.398 Q112.057 113.513 108.538 116.314 Q105.02 119.115 98.5382 119.115 Q96.3623 119.115 94.0475 118.675 Q91.7558 118.259 89.3021 117.402 L89.3021 112.888 Q91.2465 114.023 93.5613 114.601 Q95.8761 115.18 98.3993 115.18 Q102.797 115.18 105.089 113.444 Q107.404 111.708 107.404 108.398 Q107.404 105.342 105.251 103.629 Q103.121 101.893 99.3021 101.893 L95.2743 101.893 L95.2743 98.0504 L99.4872 98.0504 Q102.936 98.0504 104.765 96.6847 Q106.594 95.2958 106.594 92.7032 Q106.594 90.0412 104.696 88.6292 Q102.821 87.194 99.3021 87.194 Q97.3808 87.194 95.1817 87.6106 Q92.9826 88.0273 90.3438 88.9069 L90.3438 84.7403 Q93.0058 83.9995 95.3206 83.6292 Q97.6585 83.2588 99.7187 83.2588 Q105.043 83.2588 108.145 85.6894 Q111.246 88.0967 111.246 92.2171 Q111.246 95.0875 109.603 97.0782 Q107.959 99.0458 104.927 99.8096 Z\" fill=\"#000000\" fill-rule=\"evenodd\" fill-opacity=\"1\" /><path clip-path=\"url(#clip992)\" d=\"\nM210.454 927.935 L231.463 909.185 L252.472 879.743 L273.481 837.651 L294.49 782.08 L315.499 712.975 L336.509 630.751 L357.518 537.758 L378.527 443.876 L399.536 377.129 \n  L420.545 368.444 L441.554 404.155 L462.563 455.228 L483.573 498.34 L504.582 522.791 L525.591 547.054 L546.6 586.97 L567.609 599.787 L588.618 576.441 L609.627 553.683 \n  L630.637 572.662 L651.646 616.573 L672.655 644.758 L693.664 638.063 L714.673 608.98 L735.682 581.138 L756.691 552.234 L777.701 524.255 L798.71 514.016 L819.719 545.356 \n  L840.728 624.314 L861.737 704.9 L882.746 742.73 L903.755 728.277 L924.765 689.218 L945.774 661.284 L966.783 637.114 L987.792 604.228 L1008.8 568.991 L1029.81 553.109 \n  L1050.82 570.235 L1071.83 595.327 L1092.84 600.018 L1113.85 577.324 L1134.86 548.892 L1155.87 542.166 L1176.87 544.127 L1197.88 538.229 L1218.89 526.756 L1239.9 528.434 \n  L1260.91 555.548 L1281.92 583.652 L1302.93 590.929 L1323.94 580.464 L1344.95 575.447 L1365.96 595.593 L1386.97 622.661 L1407.97 630.248 L1428.98 615.708 L1449.99 602.705 \n  L1471 613.235 L1492.01 636.538 L1513.02 655.491 L1534.03 665.366 L1555.04 680.33 L1576.05 716.469 L1597.06 755.74 L1618.07 777.727 L1639.08 784.746 L1660.08 800.3 \n  L1681.09 840.662 L1702.1 885.93 L1723.11 913.401 L1744.12 918.464 L1765.13 921.007 L1786.14 947.432 L1807.15 988.532 L1828.16 1030.5 L1849.17 1072.73 L1870.18 1121.5 \n  L1891.19 1175.46 L1912.19 1222.12 L1933.2 1254.49 L1954.21 1275.75 L1975.22 1303.9 L1996.23 1351.65 L2017.24 1385.49 L2038.25 1382.76 L2059.26 1355.81 L2080.27 1338.51 \n  L2101.28 1356.27 L2122.29 1393.07 L2143.29 1425.4 L2164.3 1441.16 L2185.31 1444.01 L2206.32 1445.72 L2227.33 1438.05 L2248.34 1410.43 L2269.35 1364.9 L2290.36 1325.9 \n  L2290.36 1152.05 L2269.35 1163.31 L2248.34 1171.89 L2227.33 1205.5 L2206.32 1249.62 L2185.31 1270.25 L2164.3 1246.07 L2143.29 1200.08 L2122.29 1166.79 L2101.28 1161.14 \n  L2080.27 1166.62 L2059.26 1158.34 L2038.25 1146.28 L2017.24 1144.79 L1996.23 1148.65 L1975.22 1132.58 L1954.21 1079.61 L1933.2 1024.17 L1912.19 991.92 L1891.19 973.712 \n  L1870.18 942.677 L1849.17 880.745 L1828.16 807.308 L1807.15 760.456 L1786.14 752.105 L1765.13 751.735 L1744.12 724.565 L1723.11 684.616 L1702.1 654.657 L1681.09 638.816 \n  L1660.08 621.694 L1639.08 586.457 L1618.07 548.386 L1597.06 527.617 L1576.05 522.27 L1555.04 508.607 L1534.03 469.118 L1513.02 427.002 L1492.01 408.494 L1471 418.265 \n  L1449.99 437.244 L1428.98 439.901 L1407.97 429.713 L1386.97 421.164 L1365.96 417.59 L1344.95 407.055 L1323.94 381.412 L1302.93 358.723 L1281.92 352.558 L1260.91 358.416 \n  L1239.9 355.801 L1218.89 329.844 L1197.88 305.017 L1176.87 308.486 L1155.87 342.055 L1134.86 377.682 L1113.85 384.286 L1092.84 375.46 L1071.83 372.251 L1050.82 379.481 \n  L1029.81 384.661 L1008.8 375.671 L987.792 373.895 L966.783 402.65 L945.774 460.707 L924.765 515.389 L903.755 529.117 L882.746 509.485 L861.737 474.09 L840.728 430.93 \n  L819.719 377.23 L798.71 315.909 L777.701 286.034 L756.691 311.538 L735.682 376.313 L714.673 433.977 L693.664 443.699 L672.655 419.198 L651.646 393.712 L630.637 384.361 \n  L609.627 379.469 L588.618 366.865 L567.609 365.931 L546.6 378.446 L525.591 367.823 L504.582 288.177 L483.573 180.485 L462.563 104.854 L441.554 87.9763 L420.545 122.936 \n  L399.536 173.518 L378.527 205.999 L357.518 231.886 L336.509 266.69 L315.499 312.489 L294.49 364.129 L273.481 413.78 L252.472 454.94 L231.463 484.755 L210.454 503.873 \n   Z\n  \" fill=\"#ffa500\" fill-rule=\"evenodd\" fill-opacity=\"0.5\"/>\n<polyline clip-path=\"url(#clip992)\" style=\"stroke:#ffa500; stroke-linecap:butt; stroke-linejoin:round; stroke-width:4; stroke-opacity:1; fill:none\" points=\"\n  210.454,715.904 231.463,696.97 252.472,667.342 273.481,625.716 294.49,573.104 315.499,512.732 336.509,448.72 357.518,384.822 378.527,324.937 399.536,275.323 \n  420.545,245.69 441.554,246.066 462.563,280.041 483.573,339.413 504.582,405.484 525.591,457.439 546.6,482.708 567.609,482.859 588.618,471.653 609.627,466.576 \n  630.637,478.512 651.646,505.142 672.655,531.978 693.664,540.881 714.673,521.478 735.682,478.725 756.691,431.886 777.701,405.145 798.71,414.962 819.719,461.293 \n  840.728,527.622 861.737,589.495 882.746,626.108 903.755,628.697 924.765,602.303 945.774,560.996 966.783,519.882 987.792,489.061 1008.8,472.331 1029.81,468.885 \n  1050.82,474.858 1071.83,483.789 1092.84,487.739 1113.85,480.805 1134.86,463.287 1155.87,442.111 1176.87,426.306 1197.88,421.623 1218.89,428.3 1239.9,442.117 \n  1260.91,456.982 1281.92,468.105 1302.93,474.826 1323.94,480.938 1344.95,491.251 1365.96,506.591 1386.97,521.913 1407.97,529.98 1428.98,527.804 1449.99,519.974 \n  1471,515.75 1492.01,522.516 1513.02,541.246 1534.03,567.242 1555.04,594.468 1576.05,619.369 1597.06,641.679 1618.07,663.057 1639.08,685.602 1660.08,710.997 \n  1681.09,739.739 1702.1,770.294 1723.11,799.008 1744.12,821.514 1765.13,836.371 1786.14,849.768 1807.15,874.494 1828.16,918.906 1849.17,976.739 1870.18,1032.09 \n  1891.19,1074.59 1912.19,1107.02 1933.2,1139.33 1954.21,1177.68 1975.22,1218.24 1996.23,1250.15 2017.24,1265.14 2038.25,1264.52 2059.26,1257.08 2080.27,1252.57 \n  2101.28,1258.71 2122.29,1279.93 2143.29,1312.74 2164.3,1343.61 2185.31,1357.13 2206.32,1347.67 2227.33,1321.77 2248.34,1291.16 2269.35,1264.1 2290.36,1238.97 \n  \n  \"/>\n<circle clip-path=\"url(#clip992)\" cx=\"399.536\" cy=\"413.777\" r=\"14\" fill=\"#e26f46\" fill-rule=\"evenodd\" fill-opacity=\"1\" stroke=\"#000000\" stroke-opacity=\"1\" stroke-width=\"3.2\"/>\n<circle clip-path=\"url(#clip992)\" cx=\"504.582\" cy=\"446.41\" r=\"14\" fill=\"#e26f46\" fill-rule=\"evenodd\" fill-opacity=\"1\" stroke=\"#000000\" stroke-opacity=\"1\" stroke-width=\"3.2\"/>\n<circle clip-path=\"url(#clip992)\" cx=\"609.627\" cy=\"455.705\" r=\"14\" fill=\"#e26f46\" fill-rule=\"evenodd\" fill-opacity=\"1\" stroke=\"#000000\" stroke-opacity=\"1\" stroke-width=\"3.2\"/>\n<circle clip-path=\"url(#clip992)\" cx=\"714.673\" cy=\"502.49\" r=\"14\" fill=\"#e26f46\" fill-rule=\"evenodd\" fill-opacity=\"1\" stroke=\"#000000\" stroke-opacity=\"1\" stroke-width=\"3.2\"/>\n<circle clip-path=\"url(#clip992)\" cx=\"819.719\" cy=\"450.427\" r=\"14\" fill=\"#e26f46\" fill-rule=\"evenodd\" fill-opacity=\"1\" stroke=\"#000000\" stroke-opacity=\"1\" stroke-width=\"3.2\"/>\n<circle clip-path=\"url(#clip992)\" cx=\"924.765\" cy=\"560.877\" r=\"14\" fill=\"#e26f46\" fill-rule=\"evenodd\" fill-opacity=\"1\" stroke=\"#000000\" stroke-opacity=\"1\" stroke-width=\"3.2\"/>\n<circle clip-path=\"url(#clip992)\" cx=\"1029.81\" cy=\"437.475\" r=\"14\" fill=\"#e26f46\" fill-rule=\"evenodd\" fill-opacity=\"1\" stroke=\"#000000\" stroke-opacity=\"1\" stroke-width=\"3.2\"/>\n<circle clip-path=\"url(#clip992)\" cx=\"1134.86\" cy=\"439.469\" r=\"14\" fill=\"#e26f46\" fill-rule=\"evenodd\" fill-opacity=\"1\" stroke=\"#000000\" stroke-opacity=\"1\" stroke-width=\"3.2\"/>\n<circle clip-path=\"url(#clip992)\" cx=\"1239.9\" cy=\"382.987\" r=\"14\" fill=\"#e26f46\" fill-rule=\"evenodd\" fill-opacity=\"1\" stroke=\"#000000\" stroke-opacity=\"1\" stroke-width=\"3.2\"/>\n<circle clip-path=\"url(#clip992)\" cx=\"1344.95\" cy=\"418.241\" r=\"14\" fill=\"#e26f46\" fill-rule=\"evenodd\" fill-opacity=\"1\" stroke=\"#000000\" stroke-opacity=\"1\" stroke-width=\"3.2\"/>\n<circle clip-path=\"url(#clip992)\" cx=\"1449.99\" cy=\"487.382\" r=\"14\" fill=\"#e26f46\" fill-rule=\"evenodd\" fill-opacity=\"1\" stroke=\"#000000\" stroke-opacity=\"1\" stroke-width=\"3.2\"/>\n<circle clip-path=\"url(#clip992)\" cx=\"1555.04\" cy=\"576.257\" r=\"14\" fill=\"#e26f46\" fill-rule=\"evenodd\" fill-opacity=\"1\" stroke=\"#000000\" stroke-opacity=\"1\" stroke-width=\"3.2\"/>\n<circle clip-path=\"url(#clip992)\" cx=\"1660.08\" cy=\"724.874\" r=\"14\" fill=\"#e26f46\" fill-rule=\"evenodd\" fill-opacity=\"1\" stroke=\"#000000\" stroke-opacity=\"1\" stroke-width=\"3.2\"/>\n<circle clip-path=\"url(#clip992)\" cx=\"1765.13\" cy=\"856.066\" r=\"14\" fill=\"#e26f46\" fill-rule=\"evenodd\" fill-opacity=\"1\" stroke=\"#000000\" stroke-opacity=\"1\" stroke-width=\"3.2\"/>\n<circle clip-path=\"url(#clip992)\" cx=\"1870.18\" cy=\"1053.83\" r=\"14\" fill=\"#e26f46\" fill-rule=\"evenodd\" fill-opacity=\"1\" stroke=\"#000000\" stroke-opacity=\"1\" stroke-width=\"3.2\"/>\n<circle clip-path=\"url(#clip992)\" cx=\"1975.22\" cy=\"1287.45\" r=\"14\" fill=\"#e26f46\" fill-rule=\"evenodd\" fill-opacity=\"1\" stroke=\"#000000\" stroke-opacity=\"1\" stroke-width=\"3.2\"/>\n<circle clip-path=\"url(#clip992)\" cx=\"2080.27\" cy=\"1315.5\" r=\"14\" fill=\"#e26f46\" fill-rule=\"evenodd\" fill-opacity=\"1\" stroke=\"#000000\" stroke-opacity=\"1\" stroke-width=\"3.2\"/>\n<circle clip-path=\"url(#clip992)\" cx=\"2185.31\" cy=\"1433.07\" r=\"14\" fill=\"#e26f46\" fill-rule=\"evenodd\" fill-opacity=\"1\" stroke=\"#000000\" stroke-opacity=\"1\" stroke-width=\"3.2\"/>\n<circle clip-path=\"url(#clip992)\" cx=\"2290.36\" cy=\"1311.2\" r=\"14\" fill=\"#e26f46\" fill-rule=\"evenodd\" fill-opacity=\"1\" stroke=\"#000000\" stroke-opacity=\"1\" stroke-width=\"3.2\"/>\n<polyline clip-path=\"url(#clip992)\" style=\"stroke:#3da44d; stroke-linecap:butt; stroke-linejoin:round; stroke-width:4; stroke-opacity:1; fill:none\" points=\"\n  210.454,524.982 231.463,504.666 252.472,486.554 273.481,470.668 294.49,457.006 315.499,445.548 336.509,436.25 357.518,429.05 378.527,423.867 399.536,420.601 \n  420.545,419.138 441.554,419.346 462.563,421.082 483.573,424.193 504.582,428.514 525.591,433.873 546.6,440.096 567.609,447.002 588.618,454.412 609.627,462.145 \n  630.637,470.025 651.646,477.883 672.655,485.553 693.664,492.883 714.673,499.727 735.682,505.956 756.691,511.452 777.701,516.114 798.71,519.855 819.719,522.61 \n  840.728,524.327 861.737,524.976 882.746,524.546 903.755,523.044 924.765,520.498 945.774,516.952 966.783,512.472 987.792,507.138 1008.8,501.049 1029.81,494.32 \n  1050.82,487.078 1071.83,479.464 1092.84,471.632 1113.85,463.742 1134.86,455.965 1155.87,448.476 1176.87,441.452 1197.88,435.076 1218.89,429.526 1239.9,424.98 \n  1260.91,421.609 1281.92,419.58 1302.93,419.049 1323.94,420.162 1344.95,423.051 1365.96,427.835 1386.97,434.617 1407.97,443.482 1428.98,454.496 1449.99,467.707 \n  1471,483.14 1492.01,500.8 1513.02,520.67 1534.03,542.711 1555.04,566.862 1576.05,593.039 1597.06,621.139 1618.07,651.037 1639.08,682.587 1660.08,715.625 \n  1681.09,749.971 1702.1,785.426 1723.11,821.779 1744.12,858.805 1765.13,896.268 1786.14,933.924 1807.15,971.523 1828.16,1008.81 1849.17,1045.53 1870.18,1081.41 \n  1891.19,1116.22 1912.19,1149.7 1933.2,1181.6 1954.21,1211.69 1975.22,1239.75 1996.23,1265.58 2017.24,1288.97 2038.25,1309.76 2059.26,1327.79 2080.27,1342.91 \n  2101.28,1355.02 2122.29,1364.03 2143.29,1369.86 2164.3,1372.47 2185.31,1371.84 2206.32,1367.97 2227.33,1360.9 2248.34,1350.67 2269.35,1337.38 2290.36,1321.11 \n  \n  \"/>\n<path clip-path=\"url(#clip990)\" d=\"\nM1704.19 302.578 L2279.27 302.578 L2279.27 95.2176 L1704.19 95.2176  Z\n  \" fill=\"#ffffff\" fill-rule=\"evenodd\" fill-opacity=\"1\"/>\n<polyline clip-path=\"url(#clip990)\" style=\"stroke:#000000; stroke-linecap:butt; stroke-linejoin:round; stroke-width:4; stroke-opacity:1; fill:none\" points=\"\n  1704.19,302.578 2279.27,302.578 2279.27,95.2176 1704.19,95.2176 1704.19,302.578 \n  \"/>\n<polyline clip-path=\"url(#clip990)\" style=\"stroke:#ffa500; stroke-linecap:butt; stroke-linejoin:round; stroke-width:4; stroke-opacity:1; fill:none\" points=\"\n  1728.68,147.058 1875.66,147.058 \n  \"/>\n<path clip-path=\"url(#clip990)\" d=\"M1916.66 128.319 L1916.66 131.861 L1912.59 131.861 Q1910.3 131.861 1909.39 132.787 Q1908.52 133.713 1908.52 136.12 L1908.52 138.412 L1915.53 138.412 L1915.53 141.722 L1908.52 141.722 L1908.52 164.338 L1904.23 164.338 L1904.23 141.722 L1900.16 141.722 L1900.16 138.412 L1904.23 138.412 L1904.23 136.606 Q1904.23 132.278 1906.25 130.31 Q1908.26 128.319 1912.64 128.319 L1916.66 128.319 Z\" fill=\"#000000\" fill-rule=\"evenodd\" fill-opacity=\"1\" /><path clip-path=\"url(#clip990)\" d=\"M1930.46 128.366 Q1927.36 133.69 1925.85 138.898 Q1924.35 144.106 1924.35 149.453 Q1924.35 154.801 1925.85 160.055 Q1927.38 165.287 1930.46 170.588 L1926.76 170.588 Q1923.28 165.148 1921.55 159.893 Q1919.83 154.639 1919.83 149.453 Q1919.83 144.291 1921.55 139.06 Q1923.26 133.828 1926.76 128.366 L1930.46 128.366 Z\" fill=\"#000000\" fill-rule=\"evenodd\" fill-opacity=\"1\" /><path clip-path=\"url(#clip990)\" d=\"M1960.27 138.412 L1950.9 151.027 L1960.76 164.338 L1955.74 164.338 L1948.19 154.152 L1940.64 164.338 L1935.62 164.338 L1945.69 150.773 L1936.48 138.412 L1941.5 138.412 L1948.38 147.648 L1955.25 138.412 L1960.27 138.412 Z\" fill=\"#000000\" fill-rule=\"evenodd\" fill-opacity=\"1\" /><path clip-path=\"url(#clip990)\" d=\"M1966.11 128.366 L1969.81 128.366 Q1973.28 133.828 1975 139.06 Q1976.73 144.291 1976.73 149.453 Q1976.73 154.639 1975 159.893 Q1973.28 165.148 1969.81 170.588 L1966.11 170.588 Q1969.19 165.287 1970.69 160.055 Q1972.22 154.801 1972.22 149.453 Q1972.22 144.106 1970.69 138.898 Q1969.19 133.69 1966.11 128.366 Z\" fill=\"#000000\" fill-rule=\"evenodd\" fill-opacity=\"1\" /><path clip-path=\"url(#clip990)\" d=\"M2022.52 150.31 L2022.52 152.393 L2002.94 152.393 Q2003.21 156.791 2005.57 159.106 Q2007.96 161.398 2012.2 161.398 Q2014.65 161.398 2016.94 160.796 Q2019.26 160.194 2021.52 158.99 L2021.52 163.018 Q2019.23 163.99 2016.82 164.5 Q2014.42 165.009 2011.94 165.009 Q2005.74 165.009 2002.1 161.398 Q1998.49 157.787 1998.49 151.629 Q1998.49 145.264 2001.92 141.537 Q2005.37 137.787 2011.2 137.787 Q2016.43 137.787 2019.46 141.166 Q2022.52 144.523 2022.52 150.31 M2018.26 149.06 Q2018.21 145.565 2016.29 143.481 Q2014.39 141.398 2011.25 141.398 Q2007.68 141.398 2005.53 143.412 Q2003.4 145.426 2003.07 149.083 L2018.26 149.06 Z\" fill=\"#000000\" fill-rule=\"evenodd\" fill-opacity=\"1\" /><path clip-path=\"url(#clip990)\" d=\"M2046.04 139.176 L2046.04 143.203 Q2044.23 142.277 2042.29 141.815 Q2040.34 141.352 2038.26 141.352 Q2035.09 141.352 2033.49 142.324 Q2031.92 143.296 2031.92 145.24 Q2031.92 146.722 2033.05 147.578 Q2034.19 148.412 2037.61 149.176 L2039.07 149.5 Q2043.61 150.472 2045.51 152.254 Q2047.43 154.014 2047.43 157.185 Q2047.43 160.796 2044.56 162.902 Q2041.71 165.009 2036.71 165.009 Q2034.63 165.009 2032.36 164.592 Q2030.11 164.199 2027.61 163.388 L2027.61 158.99 Q2029.97 160.217 2032.26 160.842 Q2034.56 161.444 2036.8 161.444 Q2039.81 161.444 2041.43 160.426 Q2043.05 159.384 2043.05 157.509 Q2043.05 155.773 2041.87 154.847 Q2040.71 153.921 2036.76 153.064 L2035.27 152.717 Q2031.32 151.884 2029.56 150.171 Q2027.8 148.435 2027.8 145.426 Q2027.8 141.768 2030.39 139.778 Q2032.98 137.787 2037.75 137.787 Q2040.11 137.787 2042.19 138.134 Q2044.28 138.481 2046.04 139.176 Z\" fill=\"#000000\" fill-rule=\"evenodd\" fill-opacity=\"1\" /><path clip-path=\"url(#clip990)\" d=\"M2058.42 131.051 L2058.42 138.412 L2067.19 138.412 L2067.19 141.722 L2058.42 141.722 L2058.42 155.796 Q2058.42 158.967 2059.28 159.87 Q2060.16 160.773 2062.82 160.773 L2067.19 160.773 L2067.19 164.338 L2062.82 164.338 Q2057.89 164.338 2056.01 162.509 Q2054.14 160.657 2054.14 155.796 L2054.14 141.722 L2051.01 141.722 L2051.01 138.412 L2054.14 138.412 L2054.14 131.051 L2058.42 131.051 Z\" fill=\"#000000\" fill-rule=\"evenodd\" fill-opacity=\"1\" /><path clip-path=\"url(#clip990)\" d=\"M2072.8 138.412 L2077.06 138.412 L2077.06 164.338 L2072.8 164.338 L2072.8 138.412 M2072.8 128.319 L2077.06 128.319 L2077.06 133.713 L2072.8 133.713 L2072.8 128.319 Z\" fill=\"#000000\" fill-rule=\"evenodd\" fill-opacity=\"1\" /><path clip-path=\"url(#clip990)\" d=\"M2106.15 143.389 Q2107.75 140.518 2109.97 139.153 Q2112.19 137.787 2115.2 137.787 Q2119.25 137.787 2121.45 140.634 Q2123.65 143.458 2123.65 148.689 L2123.65 164.338 L2119.37 164.338 L2119.37 148.828 Q2119.37 145.102 2118.05 143.296 Q2116.73 141.49 2114.02 141.49 Q2110.71 141.49 2108.79 143.69 Q2106.87 145.889 2106.87 149.685 L2106.87 164.338 L2102.59 164.338 L2102.59 148.828 Q2102.59 145.078 2101.27 143.296 Q2099.95 141.49 2097.19 141.49 Q2093.93 141.49 2092.01 143.713 Q2090.09 145.912 2090.09 149.685 L2090.09 164.338 L2085.81 164.338 L2085.81 138.412 L2090.09 138.412 L2090.09 142.44 Q2091.55 140.055 2093.58 138.921 Q2095.62 137.787 2098.42 137.787 Q2101.25 137.787 2103.21 139.222 Q2105.2 140.657 2106.15 143.389 Z\" fill=\"#000000\" fill-rule=\"evenodd\" fill-opacity=\"1\" /><path clip-path=\"url(#clip990)\" d=\"M2143.93 151.305 Q2138.77 151.305 2136.78 152.486 Q2134.79 153.666 2134.79 156.514 Q2134.79 158.782 2136.27 160.125 Q2137.77 161.444 2140.34 161.444 Q2143.88 161.444 2146.01 158.944 Q2148.17 156.421 2148.17 152.254 L2148.17 151.305 L2143.93 151.305 M2152.43 149.546 L2152.43 164.338 L2148.17 164.338 L2148.17 160.402 Q2146.71 162.763 2144.53 163.898 Q2142.36 165.009 2139.21 165.009 Q2135.23 165.009 2132.87 162.787 Q2130.53 160.541 2130.53 156.791 Q2130.53 152.416 2133.44 150.194 Q2136.38 147.972 2142.19 147.972 L2148.17 147.972 L2148.17 147.555 Q2148.17 144.615 2146.22 143.018 Q2144.3 141.398 2140.81 141.398 Q2138.58 141.398 2136.48 141.93 Q2134.37 142.463 2132.43 143.527 L2132.43 139.592 Q2134.76 138.69 2136.96 138.25 Q2139.16 137.787 2141.25 137.787 Q2146.87 137.787 2149.65 140.703 Q2152.43 143.62 2152.43 149.546 Z\" fill=\"#000000\" fill-rule=\"evenodd\" fill-opacity=\"1\" /><path clip-path=\"url(#clip990)\" d=\"M2165.41 131.051 L2165.41 138.412 L2174.18 138.412 L2174.18 141.722 L2165.41 141.722 L2165.41 155.796 Q2165.41 158.967 2166.27 159.87 Q2167.15 160.773 2169.81 160.773 L2174.18 160.773 L2174.18 164.338 L2169.81 164.338 Q2164.88 164.338 2163 162.509 Q2161.13 160.657 2161.13 155.796 L2161.13 141.722 L2158 141.722 L2158 138.412 L2161.13 138.412 L2161.13 131.051 L2165.41 131.051 Z\" fill=\"#000000\" fill-rule=\"evenodd\" fill-opacity=\"1\" /><path clip-path=\"url(#clip990)\" d=\"M2201.96 150.31 L2201.96 152.393 L2182.38 152.393 Q2182.66 156.791 2185.02 159.106 Q2187.4 161.398 2191.64 161.398 Q2194.09 161.398 2196.38 160.796 Q2198.7 160.194 2200.97 158.99 L2200.97 163.018 Q2198.68 163.99 2196.27 164.5 Q2193.86 165.009 2191.38 165.009 Q2185.18 165.009 2181.55 161.398 Q2177.93 157.787 2177.93 151.629 Q2177.93 145.264 2181.36 141.537 Q2184.81 137.787 2190.64 137.787 Q2195.87 137.787 2198.91 141.166 Q2201.96 144.523 2201.96 150.31 M2197.7 149.06 Q2197.66 145.565 2195.74 143.481 Q2193.84 141.398 2190.69 141.398 Q2187.12 141.398 2184.97 143.412 Q2182.84 145.426 2182.52 149.083 L2197.7 149.06 Z\" fill=\"#000000\" fill-rule=\"evenodd\" fill-opacity=\"1\" /><path clip-path=\"url(#clip990)\" d=\"M2226.01 142.347 L2226.01 128.319 L2230.27 128.319 L2230.27 164.338 L2226.01 164.338 L2226.01 160.449 Q2224.67 162.763 2222.61 163.898 Q2220.57 165.009 2217.7 165.009 Q2213 165.009 2210.04 161.259 Q2207.1 157.509 2207.1 151.398 Q2207.1 145.287 2210.04 141.537 Q2213 137.787 2217.7 137.787 Q2220.57 137.787 2222.61 138.921 Q2224.67 140.032 2226.01 142.347 M2211.5 151.398 Q2211.5 156.097 2213.42 158.782 Q2215.37 161.444 2218.74 161.444 Q2222.12 161.444 2224.07 158.782 Q2226.01 156.097 2226.01 151.398 Q2226.01 146.699 2224.07 144.037 Q2222.12 141.352 2218.74 141.352 Q2215.37 141.352 2213.42 144.037 Q2211.5 146.699 2211.5 151.398 Z\" fill=\"#000000\" fill-rule=\"evenodd\" fill-opacity=\"1\" /><circle clip-path=\"url(#clip990)\" cx=\"1802.17\" cy=\"198.898\" r=\"23\" fill=\"#e26f46\" fill-rule=\"evenodd\" fill-opacity=\"1\" stroke=\"#000000\" stroke-opacity=\"1\" stroke-width=\"5.12\"/>\n<path clip-path=\"url(#clip990)\" d=\"M1914 218.585 Q1912.2 223.215 1910.48 224.627 Q1908.77 226.039 1905.9 226.039 L1902.5 226.039 L1902.5 222.474 L1905 222.474 Q1906.76 222.474 1907.73 221.64 Q1908.7 220.807 1909.88 217.705 L1910.64 215.761 L1900.16 190.252 L1904.67 190.252 L1912.77 210.529 L1920.88 190.252 L1925.39 190.252 L1914 218.585 Z\" fill=\"#000000\" fill-rule=\"evenodd\" fill-opacity=\"1\" /><path clip-path=\"url(#clip990)\" d=\"M1935.9 212.242 L1952.22 212.242 L1952.22 216.178 L1930.27 216.178 L1930.27 212.242 Q1932.94 209.488 1937.52 204.858 Q1942.13 200.205 1943.31 198.863 Q1945.55 196.34 1946.43 194.604 Q1947.33 192.844 1947.33 191.155 Q1947.33 188.4 1945.39 186.664 Q1943.47 184.928 1940.37 184.928 Q1938.17 184.928 1935.71 185.692 Q1933.28 186.455 1930.51 188.006 L1930.51 183.284 Q1933.33 182.15 1935.78 181.571 Q1938.24 180.993 1940.27 180.993 Q1945.64 180.993 1948.84 183.678 Q1952.03 186.363 1952.03 190.854 Q1952.03 192.983 1951.22 194.905 Q1950.44 196.803 1948.33 199.395 Q1947.75 200.067 1944.65 203.284 Q1941.55 206.479 1935.9 212.242 Z\" fill=\"#000000\" fill-rule=\"evenodd\" fill-opacity=\"1\" /><polyline clip-path=\"url(#clip990)\" style=\"stroke:#3da44d; stroke-linecap:butt; stroke-linejoin:round; stroke-width:4; stroke-opacity:1; fill:none\" points=\"\n  1728.68,250.738 1875.66,250.738 \n  \"/>\n<path clip-path=\"url(#clip990)\" d=\"M1919.07 254.754 Q1919.07 250.124 1917.15 247.578 Q1915.25 245.032 1911.8 245.032 Q1908.38 245.032 1906.45 247.578 Q1904.56 250.124 1904.56 254.754 Q1904.56 259.36 1906.45 261.906 Q1908.38 264.453 1911.8 264.453 Q1915.25 264.453 1917.15 261.906 Q1919.07 259.36 1919.07 254.754 M1923.33 264.8 Q1923.33 271.42 1920.39 274.638 Q1917.45 277.879 1911.39 277.879 Q1909.14 277.879 1907.15 277.531 Q1905.16 277.207 1903.28 276.513 L1903.28 272.369 Q1905.16 273.388 1906.99 273.874 Q1908.82 274.36 1910.71 274.36 Q1914.9 274.36 1916.99 272.161 Q1919.07 269.985 1919.07 265.564 L1919.07 263.457 Q1917.75 265.749 1915.69 266.883 Q1913.63 268.018 1910.76 268.018 Q1905.99 268.018 1903.08 264.383 Q1900.16 260.749 1900.16 254.754 Q1900.16 248.735 1903.08 245.101 Q1905.99 241.467 1910.76 241.467 Q1913.63 241.467 1915.69 242.601 Q1917.75 243.735 1919.07 246.027 L1919.07 242.092 L1923.33 242.092 L1923.33 264.8 Z\" fill=\"#000000\" fill-rule=\"evenodd\" fill-opacity=\"1\" /><path clip-path=\"url(#clip990)\" d=\"M1947.13 246.073 Q1946.41 245.657 1945.55 245.471 Q1944.72 245.263 1943.7 245.263 Q1940.09 245.263 1938.14 247.624 Q1936.22 249.962 1936.22 254.36 L1936.22 268.018 L1931.94 268.018 L1931.94 242.092 L1936.22 242.092 L1936.22 246.12 Q1937.57 243.758 1939.72 242.624 Q1941.87 241.467 1944.95 241.467 Q1945.39 241.467 1945.92 241.536 Q1946.45 241.583 1947.1 241.698 L1947.13 246.073 Z\" fill=\"#000000\" fill-rule=\"evenodd\" fill-opacity=\"1\" /><path clip-path=\"url(#clip990)\" d=\"M1960.6 245.078 Q1957.17 245.078 1955.18 247.763 Q1953.19 250.425 1953.19 255.078 Q1953.19 259.731 1955.16 262.416 Q1957.15 265.078 1960.6 265.078 Q1964 265.078 1965.99 262.393 Q1967.98 259.707 1967.98 255.078 Q1967.98 250.471 1965.99 247.786 Q1964 245.078 1960.6 245.078 M1960.6 241.467 Q1966.15 241.467 1969.32 245.078 Q1972.5 248.689 1972.5 255.078 Q1972.5 261.444 1969.32 265.078 Q1966.15 268.689 1960.6 268.689 Q1955.02 268.689 1951.85 265.078 Q1948.7 261.444 1948.7 255.078 Q1948.7 248.689 1951.85 245.078 Q1955.02 241.467 1960.6 241.467 Z\" fill=\"#000000\" fill-rule=\"evenodd\" fill-opacity=\"1\" /><path clip-path=\"url(#clip990)\" d=\"M1979.12 257.786 L1979.12 242.092 L1983.38 242.092 L1983.38 257.624 Q1983.38 261.305 1984.81 263.156 Q1986.25 264.985 1989.12 264.985 Q1992.57 264.985 1994.56 262.786 Q1996.57 260.587 1996.57 256.791 L1996.57 242.092 L2000.83 242.092 L2000.83 268.018 L1996.57 268.018 L1996.57 264.036 Q1995.02 266.397 1992.96 267.555 Q1990.92 268.689 1988.21 268.689 Q1983.75 268.689 1981.43 265.911 Q1979.12 263.133 1979.12 257.786 M1989.83 241.467 L1989.83 241.467 Z\" fill=\"#000000\" fill-rule=\"evenodd\" fill-opacity=\"1\" /><path clip-path=\"url(#clip990)\" d=\"M2031.15 252.369 L2031.15 268.018 L2026.89 268.018 L2026.89 252.508 Q2026.89 248.828 2025.46 246.999 Q2024.02 245.17 2021.15 245.17 Q2017.7 245.17 2015.71 247.37 Q2013.72 249.569 2013.72 253.365 L2013.72 268.018 L2009.44 268.018 L2009.44 242.092 L2013.72 242.092 L2013.72 246.12 Q2015.25 243.782 2017.31 242.624 Q2019.39 241.467 2022.1 241.467 Q2026.57 241.467 2028.86 244.245 Q2031.15 246.999 2031.15 252.369 Z\" fill=\"#000000\" fill-rule=\"evenodd\" fill-opacity=\"1\" /><path clip-path=\"url(#clip990)\" d=\"M2056.71 246.027 L2056.71 231.999 L2060.97 231.999 L2060.97 268.018 L2056.71 268.018 L2056.71 264.129 Q2055.37 266.443 2053.31 267.578 Q2051.27 268.689 2048.4 268.689 Q2043.7 268.689 2040.74 264.939 Q2037.8 261.189 2037.8 255.078 Q2037.8 248.967 2040.74 245.217 Q2043.7 241.467 2048.4 241.467 Q2051.27 241.467 2053.31 242.601 Q2055.37 243.712 2056.71 246.027 M2042.19 255.078 Q2042.19 259.777 2044.12 262.462 Q2046.06 265.124 2049.44 265.124 Q2052.82 265.124 2054.76 262.462 Q2056.71 259.777 2056.71 255.078 Q2056.71 250.379 2054.76 247.717 Q2052.82 245.032 2049.44 245.032 Q2046.06 245.032 2044.12 247.717 Q2042.19 250.379 2042.19 255.078 Z\" fill=\"#000000\" fill-rule=\"evenodd\" fill-opacity=\"1\" /><path clip-path=\"url(#clip990)\" d=\"M2089.02 234.731 L2089.02 242.092 L2097.8 242.092 L2097.8 245.402 L2089.02 245.402 L2089.02 259.476 Q2089.02 262.647 2089.88 263.55 Q2090.76 264.453 2093.42 264.453 L2097.8 264.453 L2097.8 268.018 L2093.42 268.018 Q2088.49 268.018 2086.62 266.189 Q2084.74 264.337 2084.74 259.476 L2084.74 245.402 L2081.62 245.402 L2081.62 242.092 L2084.74 242.092 L2084.74 234.731 L2089.02 234.731 Z\" fill=\"#000000\" fill-rule=\"evenodd\" fill-opacity=\"1\" /><path clip-path=\"url(#clip990)\" d=\"M2118.42 246.073 Q2117.7 245.657 2116.85 245.471 Q2116.01 245.263 2115 245.263 Q2111.38 245.263 2109.44 247.624 Q2107.52 249.962 2107.52 254.36 L2107.52 268.018 L2103.24 268.018 L2103.24 242.092 L2107.52 242.092 L2107.52 246.12 Q2108.86 243.758 2111.01 242.624 Q2113.17 241.467 2116.25 241.467 Q2116.69 241.467 2117.22 241.536 Q2117.75 241.583 2118.4 241.698 L2118.42 246.073 Z\" fill=\"#000000\" fill-rule=\"evenodd\" fill-opacity=\"1\" /><path clip-path=\"url(#clip990)\" d=\"M2122.45 257.786 L2122.45 242.092 L2126.71 242.092 L2126.71 257.624 Q2126.71 261.305 2128.14 263.156 Q2129.58 264.985 2132.45 264.985 Q2135.9 264.985 2137.89 262.786 Q2139.9 260.587 2139.9 256.791 L2139.9 242.092 L2144.16 242.092 L2144.16 268.018 L2139.9 268.018 L2139.9 264.036 Q2138.35 266.397 2136.29 267.555 Q2134.25 268.689 2131.55 268.689 Q2127.08 268.689 2124.76 265.911 Q2122.45 263.133 2122.45 257.786 M2133.17 241.467 L2133.17 241.467 Z\" fill=\"#000000\" fill-rule=\"evenodd\" fill-opacity=\"1\" /><path clip-path=\"url(#clip990)\" d=\"M2157.15 234.731 L2157.15 242.092 L2165.92 242.092 L2165.92 245.402 L2157.15 245.402 L2157.15 259.476 Q2157.15 262.647 2158 263.55 Q2158.88 264.453 2161.55 264.453 L2165.92 264.453 L2165.92 268.018 L2161.55 268.018 Q2156.62 268.018 2154.74 266.189 Q2152.87 264.337 2152.87 259.476 L2152.87 245.402 L2149.74 245.402 L2149.74 242.092 L2152.87 242.092 L2152.87 234.731 L2157.15 234.731 Z\" fill=\"#000000\" fill-rule=\"evenodd\" fill-opacity=\"1\" /><path clip-path=\"url(#clip990)\" d=\"M2193.07 252.369 L2193.07 268.018 L2188.81 268.018 L2188.81 252.508 Q2188.81 248.828 2187.38 246.999 Q2185.94 245.17 2183.07 245.17 Q2179.62 245.17 2177.63 247.37 Q2175.64 249.569 2175.64 253.365 L2175.64 268.018 L2171.36 268.018 L2171.36 231.999 L2175.64 231.999 L2175.64 246.12 Q2177.17 243.782 2179.23 242.624 Q2181.31 241.467 2184.02 241.467 Q2188.49 241.467 2190.78 244.245 Q2193.07 246.999 2193.07 252.369 Z\" fill=\"#000000\" fill-rule=\"evenodd\" fill-opacity=\"1\" /></svg>\n"
     },
     "execution_count": 12,
     "metadata": {},
     "output_type": "execute_result"
    }
   ],
   "source": [
    "plot(X, meanfunc, ribbon = sqrt.(variance),label=\"f(x) estimated\", c= :orange)\n",
    "scatter!(x_obser, y_obser)\n",
    "plot!(x_input, f_true, label=\"ground truth\")"
   ]
  },
  {
   "cell_type": "code",
   "execution_count": 13,
   "metadata": {},
   "outputs": [
    {
     "data": {
      "image/svg+xml": "<?xml version=\"1.0\" encoding=\"utf-8\"?>\n<svg xmlns=\"http://www.w3.org/2000/svg\" xmlns:xlink=\"http://www.w3.org/1999/xlink\" width=\"600\" height=\"400\" viewBox=\"0 0 2400 1600\">\n<defs>\n  <clipPath id=\"clip030\">\n    <rect x=\"0\" y=\"0\" width=\"2400\" height=\"1600\"/>\n  </clipPath>\n</defs>\n<path clip-path=\"url(#clip030)\" d=\"\nM0 1600 L2400 1600 L2400 0 L0 0  Z\n  \" fill=\"#ffffff\" fill-rule=\"evenodd\" fill-opacity=\"1\"/>\n<defs>\n  <clipPath id=\"clip031\">\n    <rect x=\"480\" y=\"0\" width=\"1681\" height=\"1600\"/>\n  </clipPath>\n</defs>\n<path clip-path=\"url(#clip030)\" d=\"\nM148.057 1486.45 L2352.76 1486.45 L2352.76 47.2441 L148.057 47.2441  Z\n  \" fill=\"#ffffff\" fill-rule=\"evenodd\" fill-opacity=\"1\"/>\n<defs>\n  <clipPath id=\"clip032\">\n    <rect x=\"148\" y=\"47\" width=\"2206\" height=\"1440\"/>\n  </clipPath>\n</defs>\n<polyline clip-path=\"url(#clip032)\" style=\"stroke:#000000; stroke-linecap:butt; stroke-linejoin:round; stroke-width:2; stroke-opacity:0.1; fill:none\" points=\"\n  210.454,1486.45 210.454,47.2441 \n  \"/>\n<polyline clip-path=\"url(#clip032)\" style=\"stroke:#000000; stroke-linecap:butt; stroke-linejoin:round; stroke-width:2; stroke-opacity:0.1; fill:none\" points=\"\n  626.435,1486.45 626.435,47.2441 \n  \"/>\n<polyline clip-path=\"url(#clip032)\" style=\"stroke:#000000; stroke-linecap:butt; stroke-linejoin:round; stroke-width:2; stroke-opacity:0.1; fill:none\" points=\"\n  1042.42,1486.45 1042.42,47.2441 \n  \"/>\n<polyline clip-path=\"url(#clip032)\" style=\"stroke:#000000; stroke-linecap:butt; stroke-linejoin:round; stroke-width:2; stroke-opacity:0.1; fill:none\" points=\"\n  1458.4,1486.45 1458.4,47.2441 \n  \"/>\n<polyline clip-path=\"url(#clip032)\" style=\"stroke:#000000; stroke-linecap:butt; stroke-linejoin:round; stroke-width:2; stroke-opacity:0.1; fill:none\" points=\"\n  1874.38,1486.45 1874.38,47.2441 \n  \"/>\n<polyline clip-path=\"url(#clip032)\" style=\"stroke:#000000; stroke-linecap:butt; stroke-linejoin:round; stroke-width:2; stroke-opacity:0.1; fill:none\" points=\"\n  2290.36,1486.45 2290.36,47.2441 \n  \"/>\n<polyline clip-path=\"url(#clip030)\" style=\"stroke:#000000; stroke-linecap:butt; stroke-linejoin:round; stroke-width:4; stroke-opacity:1; fill:none\" points=\"\n  148.057,1486.45 2352.76,1486.45 \n  \"/>\n<polyline clip-path=\"url(#clip030)\" style=\"stroke:#000000; stroke-linecap:butt; stroke-linejoin:round; stroke-width:4; stroke-opacity:1; fill:none\" points=\"\n  210.454,1486.45 210.454,1467.55 \n  \"/>\n<polyline clip-path=\"url(#clip030)\" style=\"stroke:#000000; stroke-linecap:butt; stroke-linejoin:round; stroke-width:4; stroke-opacity:1; fill:none\" points=\"\n  626.435,1486.45 626.435,1467.55 \n  \"/>\n<polyline clip-path=\"url(#clip030)\" style=\"stroke:#000000; stroke-linecap:butt; stroke-linejoin:round; stroke-width:4; stroke-opacity:1; fill:none\" points=\"\n  1042.42,1486.45 1042.42,1467.55 \n  \"/>\n<polyline clip-path=\"url(#clip030)\" style=\"stroke:#000000; stroke-linecap:butt; stroke-linejoin:round; stroke-width:4; stroke-opacity:1; fill:none\" points=\"\n  1458.4,1486.45 1458.4,1467.55 \n  \"/>\n<polyline clip-path=\"url(#clip030)\" style=\"stroke:#000000; stroke-linecap:butt; stroke-linejoin:round; stroke-width:4; stroke-opacity:1; fill:none\" points=\"\n  1874.38,1486.45 1874.38,1467.55 \n  \"/>\n<polyline clip-path=\"url(#clip030)\" style=\"stroke:#000000; stroke-linecap:butt; stroke-linejoin:round; stroke-width:4; stroke-opacity:1; fill:none\" points=\"\n  2290.36,1486.45 2290.36,1467.55 \n  \"/>\n<path clip-path=\"url(#clip030)\" d=\"M210.454 1517.37 Q206.843 1517.37 205.014 1520.93 Q203.208 1524.47 203.208 1531.6 Q203.208 1538.71 205.014 1542.27 Q206.843 1545.82 210.454 1545.82 Q214.088 1545.82 215.894 1542.27 Q217.722 1538.71 217.722 1531.6 Q217.722 1524.47 215.894 1520.93 Q214.088 1517.37 210.454 1517.37 M210.454 1513.66 Q216.264 1513.66 219.319 1518.27 Q222.398 1522.85 222.398 1531.6 Q222.398 1540.33 219.319 1544.94 Q216.264 1549.52 210.454 1549.52 Q204.644 1549.52 201.565 1544.94 Q198.509 1540.33 198.509 1531.6 Q198.509 1522.85 201.565 1518.27 Q204.644 1513.66 210.454 1513.66 Z\" fill=\"#000000\" fill-rule=\"evenodd\" fill-opacity=\"1\" /><path clip-path=\"url(#clip030)\" d=\"M616.817 1544.91 L624.456 1544.91 L624.456 1518.55 L616.145 1520.21 L616.145 1515.95 L624.409 1514.29 L629.085 1514.29 L629.085 1544.91 L636.724 1544.91 L636.724 1548.85 L616.817 1548.85 L616.817 1544.91 Z\" fill=\"#000000\" fill-rule=\"evenodd\" fill-opacity=\"1\" /><path clip-path=\"url(#clip030)\" d=\"M1037.07 1544.91 L1053.39 1544.91 L1053.39 1548.85 L1031.44 1548.85 L1031.44 1544.91 Q1034.11 1542.16 1038.69 1537.53 Q1043.3 1532.88 1044.48 1531.53 Q1046.72 1529.01 1047.6 1527.27 Q1048.5 1525.51 1048.5 1523.82 Q1048.5 1521.07 1046.56 1519.33 Q1044.64 1517.6 1041.54 1517.6 Q1039.34 1517.6 1036.88 1518.36 Q1034.45 1519.13 1031.68 1520.68 L1031.68 1515.95 Q1034.5 1514.82 1036.95 1514.24 Q1039.41 1513.66 1041.44 1513.66 Q1046.81 1513.66 1050.01 1516.35 Q1053.2 1519.03 1053.2 1523.52 Q1053.2 1525.65 1052.39 1527.57 Q1051.61 1529.47 1049.5 1532.07 Q1048.92 1532.74 1045.82 1535.95 Q1042.72 1539.15 1037.07 1544.91 Z\" fill=\"#000000\" fill-rule=\"evenodd\" fill-opacity=\"1\" /><path clip-path=\"url(#clip030)\" d=\"M1462.64 1530.21 Q1466 1530.93 1467.88 1533.2 Q1469.77 1535.47 1469.77 1538.8 Q1469.77 1543.92 1466.26 1546.72 Q1462.74 1549.52 1456.26 1549.52 Q1454.08 1549.52 1451.76 1549.08 Q1449.47 1548.66 1447.02 1547.81 L1447.02 1543.29 Q1448.96 1544.43 1451.28 1545.01 Q1453.59 1545.58 1456.12 1545.58 Q1460.51 1545.58 1462.81 1543.85 Q1465.12 1542.11 1465.12 1538.8 Q1465.12 1535.75 1462.97 1534.03 Q1460.84 1532.3 1457.02 1532.3 L1452.99 1532.3 L1452.99 1528.45 L1457.2 1528.45 Q1460.65 1528.45 1462.48 1527.09 Q1464.31 1525.7 1464.31 1523.11 Q1464.31 1520.45 1462.41 1519.03 Q1460.54 1517.6 1457.02 1517.6 Q1455.1 1517.6 1452.9 1518.01 Q1450.7 1518.43 1448.06 1519.31 L1448.06 1515.14 Q1450.72 1514.4 1453.04 1514.03 Q1455.38 1513.66 1457.44 1513.66 Q1462.76 1513.66 1465.86 1516.09 Q1468.96 1518.5 1468.96 1522.62 Q1468.96 1525.49 1467.32 1527.48 Q1465.68 1529.45 1462.64 1530.21 Z\" fill=\"#000000\" fill-rule=\"evenodd\" fill-opacity=\"1\" /><path clip-path=\"url(#clip030)\" d=\"M1877.39 1518.36 L1865.58 1536.81 L1877.39 1536.81 L1877.39 1518.36 M1876.16 1514.29 L1882.04 1514.29 L1882.04 1536.81 L1886.97 1536.81 L1886.97 1540.7 L1882.04 1540.7 L1882.04 1548.85 L1877.39 1548.85 L1877.39 1540.7 L1861.79 1540.7 L1861.79 1536.19 L1876.16 1514.29 Z\" fill=\"#000000\" fill-rule=\"evenodd\" fill-opacity=\"1\" /><path clip-path=\"url(#clip030)\" d=\"M2280.64 1514.29 L2298.99 1514.29 L2298.99 1518.22 L2284.92 1518.22 L2284.92 1526.7 Q2285.94 1526.35 2286.96 1526.19 Q2287.97 1526 2288.99 1526 Q2294.78 1526 2298.16 1529.17 Q2301.54 1532.34 2301.54 1537.76 Q2301.54 1543.34 2298.07 1546.44 Q2294.59 1549.52 2288.28 1549.52 Q2286.1 1549.52 2283.83 1549.15 Q2281.59 1548.78 2279.18 1548.04 L2279.18 1543.34 Q2281.26 1544.47 2283.48 1545.03 Q2285.71 1545.58 2288.18 1545.58 Q2292.19 1545.58 2294.53 1543.48 Q2296.86 1541.37 2296.86 1537.76 Q2296.86 1534.15 2294.53 1532.04 Q2292.19 1529.94 2288.18 1529.94 Q2286.31 1529.94 2284.43 1530.35 Q2282.58 1530.77 2280.64 1531.65 L2280.64 1514.29 Z\" fill=\"#000000\" fill-rule=\"evenodd\" fill-opacity=\"1\" /><polyline clip-path=\"url(#clip032)\" style=\"stroke:#000000; stroke-linecap:butt; stroke-linejoin:round; stroke-width:2; stroke-opacity:0.1; fill:none\" points=\"\n  148.057,1445.93 2352.76,1445.93 \n  \"/>\n<polyline clip-path=\"url(#clip032)\" style=\"stroke:#000000; stroke-linecap:butt; stroke-linejoin:round; stroke-width:2; stroke-opacity:0.1; fill:none\" points=\"\n  148.057,1144.16 2352.76,1144.16 \n  \"/>\n<polyline clip-path=\"url(#clip032)\" style=\"stroke:#000000; stroke-linecap:butt; stroke-linejoin:round; stroke-width:2; stroke-opacity:0.1; fill:none\" points=\"\n  148.057,842.382 2352.76,842.382 \n  \"/>\n<polyline clip-path=\"url(#clip032)\" style=\"stroke:#000000; stroke-linecap:butt; stroke-linejoin:round; stroke-width:2; stroke-opacity:0.1; fill:none\" points=\"\n  148.057,540.607 2352.76,540.607 \n  \"/>\n<polyline clip-path=\"url(#clip032)\" style=\"stroke:#000000; stroke-linecap:butt; stroke-linejoin:round; stroke-width:2; stroke-opacity:0.1; fill:none\" points=\"\n  148.057,238.832 2352.76,238.832 \n  \"/>\n<polyline clip-path=\"url(#clip030)\" style=\"stroke:#000000; stroke-linecap:butt; stroke-linejoin:round; stroke-width:4; stroke-opacity:1; fill:none\" points=\"\n  148.057,1486.45 148.057,47.2441 \n  \"/>\n<polyline clip-path=\"url(#clip030)\" style=\"stroke:#000000; stroke-linecap:butt; stroke-linejoin:round; stroke-width:4; stroke-opacity:1; fill:none\" points=\"\n  148.057,1445.93 166.954,1445.93 \n  \"/>\n<polyline clip-path=\"url(#clip030)\" style=\"stroke:#000000; stroke-linecap:butt; stroke-linejoin:round; stroke-width:4; stroke-opacity:1; fill:none\" points=\"\n  148.057,1144.16 166.954,1144.16 \n  \"/>\n<polyline clip-path=\"url(#clip030)\" style=\"stroke:#000000; stroke-linecap:butt; stroke-linejoin:round; stroke-width:4; stroke-opacity:1; fill:none\" points=\"\n  148.057,842.382 166.954,842.382 \n  \"/>\n<polyline clip-path=\"url(#clip030)\" style=\"stroke:#000000; stroke-linecap:butt; stroke-linejoin:round; stroke-width:4; stroke-opacity:1; fill:none\" points=\"\n  148.057,540.607 166.954,540.607 \n  \"/>\n<polyline clip-path=\"url(#clip030)\" style=\"stroke:#000000; stroke-linecap:butt; stroke-linejoin:round; stroke-width:4; stroke-opacity:1; fill:none\" points=\"\n  148.057,238.832 166.954,238.832 \n  \"/>\n<path clip-path=\"url(#clip030)\" d=\"M50.9921 1446.38 L80.6679 1446.38 L80.6679 1450.32 L50.9921 1450.32 L50.9921 1446.38 Z\" fill=\"#000000\" fill-rule=\"evenodd\" fill-opacity=\"1\" /><path clip-path=\"url(#clip030)\" d=\"M104.927 1444.58 Q108.283 1445.29 110.158 1447.56 Q112.057 1449.83 112.057 1453.16 Q112.057 1458.28 108.538 1461.08 Q105.02 1463.88 98.5382 1463.88 Q96.3623 1463.88 94.0475 1463.44 Q91.7558 1463.03 89.3021 1462.17 L89.3021 1457.66 Q91.2465 1458.79 93.5613 1459.37 Q95.8761 1459.95 98.3993 1459.95 Q102.797 1459.95 105.089 1458.21 Q107.404 1456.47 107.404 1453.16 Q107.404 1450.11 105.251 1448.4 Q103.121 1446.66 99.3021 1446.66 L95.2743 1446.66 L95.2743 1442.82 L99.4872 1442.82 Q102.936 1442.82 104.765 1441.45 Q106.594 1440.06 106.594 1437.47 Q106.594 1434.81 104.696 1433.4 Q102.821 1431.96 99.3021 1431.96 Q97.3808 1431.96 95.1817 1432.38 Q92.9826 1432.79 90.3438 1433.67 L90.3438 1429.51 Q93.0058 1428.77 95.3206 1428.4 Q97.6585 1428.03 99.7187 1428.03 Q105.043 1428.03 108.145 1430.46 Q111.246 1432.86 111.246 1436.98 Q111.246 1439.85 109.603 1441.85 Q107.959 1443.81 104.927 1444.58 Z\" fill=\"#000000\" fill-rule=\"evenodd\" fill-opacity=\"1\" /><path clip-path=\"url(#clip030)\" d=\"M51.9412 1144.61 L81.617 1144.61 L81.617 1148.54 L51.9412 1148.54 L51.9412 1144.61 Z\" fill=\"#000000\" fill-rule=\"evenodd\" fill-opacity=\"1\" /><path clip-path=\"url(#clip030)\" d=\"M95.7373 1157.5 L112.057 1157.5 L112.057 1161.44 L90.1123 1161.44 L90.1123 1157.5 Q92.7743 1154.75 97.3576 1150.12 Q101.964 1145.46 103.145 1144.12 Q105.39 1141.6 106.27 1139.86 Q107.172 1138.1 107.172 1136.41 Q107.172 1133.66 105.228 1131.92 Q103.307 1130.19 100.205 1130.19 Q98.0058 1130.19 95.5521 1130.95 Q93.1215 1131.71 90.3438 1133.27 L90.3438 1128.54 Q93.1678 1127.41 95.6215 1126.83 Q98.0752 1126.25 100.112 1126.25 Q105.483 1126.25 108.677 1128.94 Q111.871 1131.62 111.871 1136.11 Q111.871 1138.24 111.061 1140.16 Q110.274 1142.06 108.168 1144.65 Q107.589 1145.33 104.487 1148.54 Q101.385 1151.74 95.7373 1157.5 Z\" fill=\"#000000\" fill-rule=\"evenodd\" fill-opacity=\"1\" /><path clip-path=\"url(#clip030)\" d=\"M51.5708 842.833 L81.2466 842.833 L81.2466 846.768 L51.5708 846.768 L51.5708 842.833 Z\" fill=\"#000000\" fill-rule=\"evenodd\" fill-opacity=\"1\" /><path clip-path=\"url(#clip030)\" d=\"M92.1493 855.727 L99.7882 855.727 L99.7882 829.361 L91.478 831.028 L91.478 826.768 L99.7419 825.102 L104.418 825.102 L104.418 855.727 L112.057 855.727 L112.057 859.662 L92.1493 859.662 L92.1493 855.727 Z\" fill=\"#000000\" fill-rule=\"evenodd\" fill-opacity=\"1\" /><path clip-path=\"url(#clip030)\" d=\"M100.112 526.406 Q96.5011 526.406 94.6724 529.971 Q92.8669 533.512 92.8669 540.642 Q92.8669 547.748 94.6724 551.313 Q96.5011 554.855 100.112 554.855 Q103.746 554.855 105.552 551.313 Q107.381 547.748 107.381 540.642 Q107.381 533.512 105.552 529.971 Q103.746 526.406 100.112 526.406 M100.112 522.702 Q105.922 522.702 108.978 527.309 Q112.057 531.892 112.057 540.642 Q112.057 549.369 108.978 553.975 Q105.922 558.558 100.112 558.558 Q94.3021 558.558 91.2234 553.975 Q88.1679 549.369 88.1679 540.642 Q88.1679 531.892 91.2234 527.309 Q94.3021 522.702 100.112 522.702 Z\" fill=\"#000000\" fill-rule=\"evenodd\" fill-opacity=\"1\" /><path clip-path=\"url(#clip030)\" d=\"M92.1493 252.177 L99.7882 252.177 L99.7882 225.812 L91.478 227.478 L91.478 223.219 L99.7419 221.552 L104.418 221.552 L104.418 252.177 L112.057 252.177 L112.057 256.112 L92.1493 256.112 L92.1493 252.177 Z\" fill=\"#000000\" fill-rule=\"evenodd\" fill-opacity=\"1\" /><polyline clip-path=\"url(#clip032)\" style=\"stroke:#009af9; stroke-linecap:butt; stroke-linejoin:round; stroke-width:4; stroke-opacity:1; fill:none\" points=\"\n  210.454,238.832 231.463,209.901 252.472,184.109 273.481,161.485 294.49,142.03 315.499,125.712 336.509,112.472 357.518,102.219 378.527,94.8376 399.536,90.187 \n  420.545,88.1026 441.554,88.3988 462.563,90.8717 483.573,95.3014 504.582,101.454 525.591,109.087 546.6,117.949 567.609,127.784 588.618,138.335 609.627,149.347 \n  630.637,160.57 651.646,171.76 672.655,182.683 693.664,193.121 714.673,202.868 735.682,211.739 756.691,219.566 777.701,226.204 798.71,231.532 819.719,235.454 \n  840.728,237.9 861.737,238.825 882.746,238.212 903.755,236.074 924.765,232.447 945.774,227.398 966.783,221.017 987.792,213.422 1008.8,204.751 1029.81,195.167 \n  1050.82,184.854 1071.83,174.012 1092.84,162.858 1113.85,151.623 1134.86,140.547 1155.87,129.882 1176.87,119.88 1197.88,110.8 1218.89,102.896 1239.9,96.4218 \n  1260.91,91.6221 1281.92,88.7326 1302.93,87.9763 1323.94,89.5605 1344.95,93.6747 1365.96,100.488 1386.97,110.146 1407.97,122.77 1428.98,138.456 1449.99,157.269 \n  1471,179.247 1492.01,204.396 1513.02,232.692 1534.03,264.08 1555.04,298.473 1576.05,335.751 1597.06,375.768 1618.07,418.345 1639.08,463.274 1660.08,510.323 \n  1681.09,559.234 1702.1,609.725 1723.11,661.494 1744.12,714.222 1765.13,767.572 1786.14,821.198 1807.15,874.742 1828.16,927.84 1849.17,980.126 1870.18,1031.23 \n  1891.19,1080.8 1912.19,1128.47 1933.2,1173.9 1954.21,1216.76 1975.22,1256.72 1996.23,1293.5 2017.24,1326.82 2038.25,1356.42 2059.26,1382.09 2080.27,1403.63 \n  2101.28,1420.88 2122.29,1433.7 2143.29,1442 2164.3,1445.72 2185.31,1444.82 2206.32,1439.31 2227.33,1429.24 2248.34,1414.68 2269.35,1395.74 2290.36,1372.58 \n  \n  \"/>\n<path clip-path=\"url(#clip030)\" d=\"\nM1981.87 198.898 L2279.27 198.898 L2279.27 95.2176 L1981.87 95.2176  Z\n  \" fill=\"#ffffff\" fill-rule=\"evenodd\" fill-opacity=\"1\"/>\n<polyline clip-path=\"url(#clip030)\" style=\"stroke:#000000; stroke-linecap:butt; stroke-linejoin:round; stroke-width:4; stroke-opacity:1; fill:none\" points=\"\n  1981.87,198.898 2279.27,198.898 2279.27,95.2176 1981.87,95.2176 1981.87,198.898 \n  \"/>\n<polyline clip-path=\"url(#clip030)\" style=\"stroke:#009af9; stroke-linecap:butt; stroke-linejoin:round; stroke-width:4; stroke-opacity:1; fill:none\" points=\"\n  2006.37,147.058 2153.35,147.058 \n  \"/>\n<path clip-path=\"url(#clip030)\" d=\"M2191.68 166.745 Q2189.88 171.375 2188.17 172.787 Q2186.45 174.199 2183.58 174.199 L2180.18 174.199 L2180.18 170.634 L2182.68 170.634 Q2184.44 170.634 2185.41 169.8 Q2186.38 168.967 2187.56 165.865 L2188.33 163.921 L2177.84 138.412 L2182.36 138.412 L2190.46 158.689 L2198.56 138.412 L2203.07 138.412 L2191.68 166.745 Z\" fill=\"#000000\" fill-rule=\"evenodd\" fill-opacity=\"1\" /><path clip-path=\"url(#clip030)\" d=\"M2210.37 160.402 L2218 160.402 L2218 134.037 L2209.69 135.703 L2209.69 131.444 L2217.96 129.778 L2222.63 129.778 L2222.63 160.402 L2230.27 160.402 L2230.27 164.338 L2210.37 164.338 L2210.37 160.402 Z\" fill=\"#000000\" fill-rule=\"evenodd\" fill-opacity=\"1\" /></svg>\n"
     },
     "execution_count": 13,
     "metadata": {},
     "output_type": "execute_result"
    }
   ],
   "source": [
    "plot(x_input,f_true)"
   ]
  },
  {
   "cell_type": "code",
   "execution_count": null,
   "metadata": {},
   "outputs": [],
   "source": []
  }
 ],
 "metadata": {
  "kernelspec": {
   "display_name": "Julia 1.7.1",
   "language": "julia",
   "name": "julia-1.7"
  },
  "language_info": {
   "file_extension": ".jl",
   "mimetype": "application/julia",
   "name": "julia",
   "version": "1.7.1"
  },
  "orig_nbformat": 4
 },
 "nbformat": 4,
 "nbformat_minor": 2
}
