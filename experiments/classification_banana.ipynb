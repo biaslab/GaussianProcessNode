{
 "cells": [
  {
   "cell_type": "code",
   "execution_count": 1,
   "metadata": {},
   "outputs": [
    {
     "name": "stderr",
     "output_type": "stream",
     "text": [
      "\u001b[32m\u001b[1m  Activating\u001b[22m\u001b[39m project at `~/PhD/GaussianProcessNode`\n"
     ]
    }
   ],
   "source": [
    "using Pkg \n",
    "Pkg.activate(\"..\")\n",
    "\n",
    "using Revise \n",
    "using RxInfer\n",
    "using Random, LinearAlgebra, SpecialFunctions, Plots, StableRNGs, DomainSets , LaTeXStrings , Statistics, StatsFuns\n",
    "using Optim, ForwardDiff, Flux, Zygote\n",
    "using CSV, DataFrames\n",
    "using KernelFunctions, MAT,LoopVectorization\n",
    "using Plots \n",
    "using JLD"
   ]
  },
  {
   "cell_type": "code",
   "execution_count": 2,
   "metadata": {},
   "outputs": [
    {
     "data": {
      "text/plain": [
       "error_rate (generic function with 1 method)"
      ]
     },
     "metadata": {},
     "output_type": "display_data"
    }
   ],
   "source": [
    "include(\"../GPnode/UniSGPnode.jl\")\n",
    "include(\"../helper_functions/derivative_helper.jl\")\n",
    "include(\"../helper_functions/gp_helperfunction.jl\")"
   ]
  },
  {
   "cell_type": "markdown",
   "metadata": {},
   "source": [
    "## Load data"
   ]
  },
  {
   "cell_type": "code",
   "execution_count": 3,
   "metadata": {},
   "outputs": [],
   "source": [
    "# load data \n",
    "data = CSV.read(\"../data/banana/banana.csv\", DataFrame);\n",
    "x_data = [[data[i,1], data[i,2]] for i=1:size(data,1)];\n",
    "label = data[:,end] |> (x) -> float(replace(x, -1 => 0));\n",
    "\n",
    "# split to train, test \n",
    "Ntrain = 4000;\n",
    "xtrain, ytrain = x_data[1:Ntrain], label[1:Ntrain];\n",
    "xtest, ytest = x_data[Ntrain+1:end], label[Ntrain + 1: end];\n",
    "\n",
    "#create batch data\n",
    "data_training = (xtrain, ytrain);\n",
    "batch_size = 200;\n",
    "xtrain_minibatches, ytrain_minibatches = split2batch(data_training, batch_size);\n",
    "nbatches = length(ytrain_minibatches);"
   ]
  },
  {
   "cell_type": "markdown",
   "metadata": {},
   "source": [
    "## Configure GP"
   ]
  },
  {
   "cell_type": "code",
   "execution_count": 4,
   "metadata": {},
   "outputs": [],
   "source": [
    "Random.seed!(1)\n",
    "M = 500;\n",
    "\n",
    "pos = randperm(Ntrain)[1:M]\n",
    "Xu = xtrain[pos]; #inducing input \n",
    "\n",
    "kernel_gp(θ) = StatsFuns.softplus(θ[1]) * with_lengthscale(SEKernel(),StatsFuns.softplus.([θ[2], θ[3]]));\n",
    "ndims_params = 3;\n",
    "θ_init = StatsFuns.invsoftplus.(ones(ndims_params));\n",
    "\n",
    "Ψ0 = [1.0;;]\n",
    "Ψ1_trans = kernelmatrix(kernel_gp(θ_init),Xu,[xtrain[1]])\n",
    "Ψ2 = kernelmatrix(kernel_gp(θ_init),Xu,[xtrain[1]]) * kernelmatrix(kernel_gp(θ_init),[xtrain[1]],Xu);"
   ]
  },
  {
   "cell_type": "markdown",
   "metadata": {},
   "source": [
    "## Model definition"
   ]
  },
  {
   "cell_type": "code",
   "execution_count": 5,
   "metadata": {},
   "outputs": [],
   "source": [
    "@model function gp_classification(y,x,θ,mv, Σv, shape, rate)\n",
    "    v ~ MvNormalMeanCovariance(mv, Σv)\n",
    "    w ~ GammaShapeRate(shape,rate)\n",
    "    for i in eachindex(y)\n",
    "        f[i] ~ UniSGP(x[i],v,w,θ) \n",
    "        y[i] ~ Probit(f[i])\n",
    "    end\n",
    "end\n",
    "\n",
    "gp_constraints = @constraints begin\n",
    "    q(f,v,w) = q(f)q(v)q(w)\n",
    "end\n",
    "\n",
    "@meta function meta_gp_classification(Xu,Ψ0,Ψ1_trans,Ψ2,KuuL,kernel,Lu)\n",
    "    UniSGP() -> UniSGPMeta(nothing,Xu,Ψ0,Ψ1_trans,Ψ2,KuuL,kernel,Lu,0,batch_size)\n",
    "    Probit() -> ProbitMeta(32)\n",
    "end\n",
    "\n",
    "\n",
    "@initialization function gp_initialization(μv,Σv, α, β)\n",
    "    q(v) = MvNormalMeanCovariance(μv, Σv)\n",
    "    q(w) = GammaShapeRate(α,β)\n",
    "end\n",
    ";"
   ]
  },
  {
   "cell_type": "markdown",
   "metadata": {},
   "source": [
    "## Perform inference"
   ]
  },
  {
   "cell_type": "code",
   "execution_count": 6,
   "metadata": {},
   "outputs": [],
   "source": [
    "function my_free_energy(θ; xbatch, ybatch, mv, Σv, shape, rate)\n",
    "    Kuu = kernelmatrix(kernel_gp(θ), Xu) + 1e-8 * I\n",
    "    KuuL = fastcholesky!(Kuu).L\n",
    "    Rv = mv * mv' + Σv\n",
    "    Lu = fastcholesky!(Rv).U;\n",
    "    infer_result = infer(\n",
    "        model = gp_classification(θ = θ, mv = mv, Σv = Σv, shape=shape, rate=rate),\n",
    "        iterations = 1,\n",
    "        data = (y = ybatch, x = xbatch,),\n",
    "        initialization = gp_initialization(mv, Σv,shape, rate),\n",
    "        constraints = gp_constraints,\n",
    "        returnvars = (v = KeepLast(),f = KeepLast(),w = KeepLast(),),\n",
    "        meta = meta_gp_classification(Xu,Ψ0,Ψ1_trans,Ψ2,KuuL,kernel_gp,Lu),\n",
    "        free_energy = false,\n",
    "    )\n",
    "    return (infer_result.posteriors[:v], infer_result.posteriors[:f], infer_result.posteriors[:w])\n",
    "end\n",
    "\n",
    "\n",
    "function PerformInference(θ;epochs = 1)\n",
    "    # FE_value = []\n",
    "    μ_v = zeros(M)\n",
    "    Σ_v = 50*diageye(M)\n",
    "    shape = 0.01\n",
    "    rate = 0.01\n",
    "    grad = similar(θ)\n",
    "    optimizer = Flux.AdaMax()\n",
    "    θ_optimal = θ\n",
    "\n",
    "    @inbounds for epoch=1:epochs\n",
    "        # μ_v = zeros(M)\n",
    "        # Σ_v = 50*diageye(M)\n",
    "        # shape = 0.01\n",
    "        # rate = 0.01\n",
    "        for b=1:nbatches\n",
    "            #step 1: Perform inference for v, w \n",
    "            qv,qf, qw = my_free_energy(θ_optimal; xbatch = xtrain_minibatches[b], \n",
    "                                                ybatch = ytrain_minibatches[b],\n",
    "                                                mv = μ_v,\n",
    "                                                Σv = Σ_v,\n",
    "                                                shape=shape,\n",
    "                                                rate = rate)\n",
    "            #step 2: optimize the hyperparameters \n",
    "            μ_v, Σ_v = mean_cov(qv)\n",
    "            Rv = Σ_v + μ_v * μ_v' |> (x) -> fastcholesky!(x).U\n",
    "            w = mean(qw)\n",
    "            f = mean.(qf)\n",
    "            grad_llh_new!(grad,θ_optimal; y_data=f,\n",
    "                                    x_data=xtrain_minibatches[b],\n",
    "                                    v = μ_v,\n",
    "                                    Uv=Rv,\n",
    "                                    w=w,\n",
    "                                    kernel=kernel_gp,\n",
    "                                    Xu=Xu,\n",
    "                                    chunk_size=2)\n",
    "            Flux.Optimise.update!(optimizer,θ_optimal,grad)\n",
    "            # append!(FE_value,fe)\n",
    "            shape,rate = params(qw)\n",
    "        end\n",
    "        # μ_v_marginal = μ_v\n",
    "        # Σ_v_marginal = Σ_v\n",
    "        # shape_marginal = shape\n",
    "        # rate_marginal = rate\n",
    "    end\n",
    "    q_v = MvNormalMeanCovariance(μ_v,Σ_v)\n",
    "    q_w = GammaShapeRate(shape,rate)\n",
    "    return q_v,q_w, θ_optimal\n",
    "end\n",
    ";"
   ]
  },
  {
   "cell_type": "code",
   "execution_count": 74,
   "metadata": {},
   "outputs": [
    {
     "name": "stdout",
     "output_type": "stream",
     "text": [
      "2965.757395 seconds (8.62 G allocations: 4.856 TiB, 10.07% gc time, 0.01% compilation time: 99% of which was recompilation)\n"
     ]
    }
   ],
   "source": [
    "@time qv,qw,θ_opt = PerformInference(θ_init; epochs = 500); # ≈ 50min \n",
    "\n",
    "#If you can't wait, then load the optimal result\n",
    "# qv = load(\"../savefiles/qv_banana.jld\")[\"qv\"]\n",
    "# qw = load(\"../savefiles/qw_banana.jld\")[\"qw\"]\n",
    "# θ_opt = load(\"../savefiles/params_optimal_banana.jld\")[\"params_optimal\"]"
   ]
  },
  {
   "cell_type": "code",
   "execution_count": 75,
   "metadata": {},
   "outputs": [
    {
     "data": {
      "text/plain": [
       "3-element Vector{Float64}:\n",
       " 0.9856325025617136\n",
       " 1.0280572449420289\n",
       " 1.0215368195768595"
      ]
     },
     "metadata": {},
     "output_type": "display_data"
    }
   ],
   "source": [
    "StatsFuns.softplus.(θ_opt)"
   ]
  },
  {
   "cell_type": "markdown",
   "metadata": {},
   "source": [
    "## Prediction and validation"
   ]
  },
  {
   "cell_type": "code",
   "execution_count": 70,
   "metadata": {},
   "outputs": [
    {
     "data": {
      "text/plain": [
       "predict_new (generic function with 1 method)"
      ]
     },
     "metadata": {},
     "output_type": "display_data"
    }
   ],
   "source": [
    "function predict_new(x_test,qv,qw, qθ, meta)\n",
    "    prediction_f = @call_rule UniSGP(:out, Marginalisation) (q_in=PointMass(x_test),q_v = qv, q_w = qw,q_θ = qθ, meta=meta)\n",
    "    prediction_y = @call_rule Probit(:out, Marginalisation) (m_in=prediction_f,meta=ProbitMeta(32))\n",
    "    return prediction_y\n",
    "end"
   ]
  },
  {
   "cell_type": "code",
   "execution_count": 76,
   "metadata": {},
   "outputs": [
    {
     "name": "stdout",
     "output_type": "stream",
     "text": [
      "Number of error:125.0\n",
      "Error rate: 0.09615384615384616\n"
     ]
    }
   ],
   "source": [
    "predict_mean =[]\n",
    "predict_var =[]\n",
    "predict_y = []\n",
    "Kuu = kernelmatrix(kernel_gp(θ_opt), Xu) + 1e-8 * I\n",
    "Lu = cholesky(Kuu).U;\n",
    "KuuL = fastcholesky!(Kuu).L\n",
    "\n",
    "for i=1:length(ytest)\n",
    "    prediction_y = predict_new(xtest[i],qv,qw,PointMass(θ_opt), UniSGPMeta(nothing,Xu,Ψ0,Ψ1_trans,Ψ2,KuuL,kernel_gp,Lu,0,batch_size))\n",
    "    append!(predict_mean,mean(prediction_y))\n",
    "    append!(predict_var,var(prediction_y)) \n",
    "    mean(prediction_y) >=0.5 ? predict = 1.0 : predict = 0.0\n",
    "    append!(predict_y,predict) \n",
    "end\n",
    "\n",
    "println(\"Number of error:\", num_error(ytest, predict_y))\n",
    "println(\"Error rate: \", error_rate(ytest, predict_y))"
   ]
  },
  {
   "cell_type": "code",
   "execution_count": 77,
   "metadata": {},
   "outputs": [],
   "source": [
    "save(\"../savefiles/qv_banana.jld\",\"qv\",qv)\n",
    "save(\"../savefiles/qw_banana.jld\",\"qw\",qw)\n",
    "save(\"../savefiles/FE_banana.jld\",\"FE\",FE)\n",
    "save(\"../savefiles/params_optimal_banana.jld\",\"params_optimal\",θ_opt)\n",
    "save(\"../savefiles/error_rate_banana.jld\",\"error_rate\", error_rate(ytest, predict_y))\n",
    "save(\"../savefiles/number_error_banana.jld\",\"number_error\", num_error(ytest, predict_y))\n",
    "save(\"../savefiles/Xu_banana.jld\",\"Xu\", Xu)"
   ]
  },
  {
   "cell_type": "code",
   "execution_count": null,
   "metadata": {},
   "outputs": [],
   "source": []
  }
 ],
 "metadata": {
  "kernelspec": {
   "display_name": "Julia 1.11.0",
   "language": "julia",
   "name": "julia-1.11"
  },
  "language_info": {
   "file_extension": ".jl",
   "mimetype": "application/julia",
   "name": "julia",
   "version": "1.11.0"
  }
 },
 "nbformat": 4,
 "nbformat_minor": 2
}
