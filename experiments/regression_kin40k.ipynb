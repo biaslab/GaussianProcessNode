{
 "cells": [
  {
   "cell_type": "code",
   "execution_count": 1,
   "metadata": {},
   "outputs": [
    {
     "name": "stderr",
     "output_type": "stream",
     "text": [
      "\u001b[32m\u001b[1m  Activating\u001b[22m\u001b[39m project at `~/PhD/GaussianProcessNode`\n"
     ]
    }
   ],
   "source": [
    "using Pkg \n",
    "Pkg.activate(\"..\")\n",
    "Pkg.instantiate();\n",
    "\n",
    "using Revise \n",
    "using ReactiveMP, RxInfer\n",
    "using Random, LinearAlgebra, SpecialFunctions, Plots, StableRNGs, DomainSets , LaTeXStrings, StatsFuns \n",
    "using Optim, ForwardDiff, Flux, Zygote\n",
    "using KernelFunctions, MAT,LoopVectorization, PDMats\n",
    "using Plots \n",
    "using JLD\n",
    "import KernelFunctions: SqExponentialKernel, Matern52Kernel, with_lengthscale, kernelmatrix "
   ]
  },
  {
   "cell_type": "code",
   "execution_count": null,
   "metadata": {},
   "outputs": [
    {
     "data": {
      "text/plain": [
       "trace_blkmatrix (generic function with 1 method)"
      ]
     },
     "metadata": {},
     "output_type": "display_data"
    }
   ],
   "source": [
    "include(\"../helper_functions/gp_helperfunction.jl\")\n",
    "include(\"../GPnode/UniSGPnode.jl\")\n",
    "include(\"../helper_functions/derivative_helper.jl\")"
   ]
  },
  {
   "cell_type": "markdown",
   "metadata": {},
   "source": [
    "## Load data"
   ]
  },
  {
   "cell_type": "code",
   "execution_count": 3,
   "metadata": {},
   "outputs": [],
   "source": [
    "# load data \n",
    "xtrain_data = matopen(\"../data/kin40k/kin40k_xtrain.mat\");\n",
    "xtest_data = matopen(\"../data/kin40k/kin40k_xtest.mat\");\n",
    "ytrain_data = matopen(\"../data/kin40k/kin40k_ytrain.mat\");\n",
    "ytest_data = matopen(\"../data/kin40k/kin40k_ytest.mat\");\n",
    "\n",
    "xtrain_matrix = read(xtrain_data, \"xtrain\");\n",
    "ytrain = read(ytrain_data, \"ytrain\") |> (x) -> vcat(x...);\n",
    "xtest_matrix = read(xtest_data, \"xtest\");\n",
    "ytest = read(ytest_data, \"ytest\") |> (x) -> vcat(x...);\n",
    "\n",
    "Ntrain = length(ytrain);\n",
    "xtrain = [xtrain_matrix[i,:] for i=1:Ntrain];\n",
    "data_training = (xtrain, ytrain);\n",
    "\n",
    "Ntest = length(ytest);\n",
    "xtest = [xtest_matrix[i,:] for i=1:Ntest];\n",
    "\n",
    "batch_size = 500;\n",
    "xtrain_minibatches, ytrain_minibatches = split2batch(data_training, batch_size);\n",
    "nbatches = length(ytrain_minibatches);"
   ]
  },
  {
   "cell_type": "markdown",
   "metadata": {},
   "source": [
    "## Configure GP"
   ]
  },
  {
   "cell_type": "code",
   "execution_count": 4,
   "metadata": {},
   "outputs": [],
   "source": [
    "# configure GP \n",
    "Random.seed!(1)\n",
    "M = 600;\n",
    "\n",
    "pos = randperm(Ntrain)[1:M]\n",
    "Xu = xtrain[pos]; #inducing input \n",
    "\n",
    "kernel_gp(θ) = StatsFuns.softplus(θ[1]) * with_lengthscale(SEKernel(),StatsFuns.softplus.(θ[2:end]))\n",
    "\n",
    "dim_θ = size(xtrain_matrix,2) + 1\n",
    "gpcache = GPCache();\n",
    "θ_init = StatsFuns.invsoftplus.(ones(dim_θ));\n",
    "optimizer = Flux.AdaMax();\n",
    "\n",
    "Ψ0 = kernelmatrix(kernel_gp(θ_init),[xtrain[1]])\n",
    "Ψ1_trans = kernelmatrix(kernel_gp(θ_init),Xu,[xtrain[1]])\n",
    "Ψ2 = kernelmatrix(kernel_gp(θ_init),Xu,[xtrain[1]]) * kernelmatrix(kernel_gp(θ_init),[xtrain[1]],Xu);\n",
    "w_val = 1e4\n",
    "Kuu = kernelmatrix(kernel_gp(θ_init), Xu) + 1e-8 * I\n",
    "Lu = cholesky(Kuu).U;\n",
    ";"
   ]
  },
  {
   "cell_type": "markdown",
   "metadata": {},
   "source": [
    "## Model Definition"
   ]
  },
  {
   "cell_type": "code",
   "execution_count": 5,
   "metadata": {},
   "outputs": [
    {
     "data": {
      "text/plain": [
       "meta_gp_regression (generic function with 1 method)"
      ]
     },
     "metadata": {},
     "output_type": "display_data"
    }
   ],
   "source": [
    "@model function gp_kin40k(y,x,θ, μ_v ,Σ_v)\n",
    "    v ~ MvNormalMeanCovariance(μ_v, Σ_v)\n",
    "    @inbounds for i in eachindex(y)\n",
    "        y[i] ~ UniSGP(x[i],v,w_val,θ)\n",
    "    end\n",
    "end\n",
    "\n",
    "@meta function meta_gp_regression(Xu,Ψ0,Ψ1_trans,Ψ2,KuuL,kernel,Uv)\n",
    "    UniSGP() -> UniSGPMeta(nothing,Xu,Ψ0,Ψ1_trans,Ψ2,KuuL,kernel,Uv,0,batch_size)\n",
    "end"
   ]
  },
  {
   "cell_type": "markdown",
   "metadata": {},
   "source": [
    "## Inference"
   ]
  },
  {
   "cell_type": "code",
   "execution_count": 6,
   "metadata": {},
   "outputs": [
    {
     "data": {
      "text/plain": [
       "PerformInference (generic function with 1 method)"
      ]
     },
     "metadata": {},
     "output_type": "display_data"
    }
   ],
   "source": [
    "function my_free_energy(θ; xbatch, ybatch,μ_v,Σ_v)\n",
    "    kernelmatrix!(Kuu,kernel_gp(θ), Xu)\n",
    "    KuuL = fastcholesky!(Kuu).L\n",
    "    infer_result = infer(\n",
    "        model = gp_kin40k(θ = θ, μ_v = μ_v, Σ_v = Σ_v,),\n",
    "        iterations = 1,\n",
    "        data = (y = ybatch, x = xbatch,),\n",
    "        returnvars = (v = KeepLast(),),\n",
    "        meta = meta_gp_regression(Xu,Ψ0,Ψ1_trans,Ψ2,KuuL,kernel_gp,Lu),\n",
    "        free_energy = false,\n",
    "    )\n",
    "    # return (infer_result.free_energy[end],infer_result.posteriors[:v], infer_result.posteriors[:w])\n",
    "    return infer_result.posteriors[:v]\n",
    "end\n",
    "function PerformInference(θ;epochs = 1)\n",
    "    # FE_value = []\n",
    "    grad = similar(θ)\n",
    "    θ_optimal = copy(θ)\n",
    "    μ_v_marginal = zeros(M)\n",
    "    Σ_v_marginal = 50*diageye(M)\n",
    "    @inbounds for epoch=1:epochs\n",
    "        μ_v = zeros(M)\n",
    "        Σ_v = 50*diageye(M)\n",
    "        @inbounds for b=1:nbatches\n",
    "            #step 1: Perform inference for v, w \n",
    "            qv = my_free_energy(θ_optimal;   xbatch = xtrain_minibatches[b], \n",
    "                                                ybatch = ytrain_minibatches[b],\n",
    "                                                μ_v = μ_v,\n",
    "                                                Σ_v = Σ_v)\n",
    "            #step 2: optimize the hyperparameters \n",
    "            μ_v, Σ_v = mean_cov(qv)\n",
    "            Rv = Σ_v + μ_v * μ_v' |> (x) -> fastcholesky!(x).U\n",
    "            grad_llh_new!(grad,θ_optimal; y_data=ytrain_minibatches[b],\n",
    "                                    x_data=xtrain_minibatches[b],\n",
    "                                    v = μ_v,\n",
    "                                    Uv=Rv,\n",
    "                                    w=w_val,\n",
    "                                    kernel=kernel_gp,\n",
    "                                    Xu=Xu,\n",
    "                                    chunk_size=4)\n",
    "            Flux.Optimise.update!(optimizer,θ_optimal,grad)\n",
    "            # append!(FE_value,fe)\n",
    "        end\n",
    "        μ_v_marginal = μ_v\n",
    "        Σ_v_marginal = Σ_v\n",
    "    end\n",
    "    q_v = MvNormalMeanCovariance(μ_v_marginal, Σ_v_marginal)\n",
    "    return q_v,θ_optimal\n",
    "end"
   ]
  },
  {
   "cell_type": "code",
   "execution_count": null,
   "metadata": {},
   "outputs": [],
   "source": [
    "qv, θ_opt = PerformInference(θ_opt; epochs = 500); #epochs = 500, approx 3h30min\n",
    "\n",
    "#If you can't wait, then load the optimal result\n",
    "# qv = load(\"../savefiles/qv_kin40k.jld\")[\"qv\"]\n",
    "# θ_opt = load(\"../savefiles/params_optimal_kin40k.jld\")[\"params_optimal\"]"
   ]
  },
  {
   "cell_type": "code",
   "execution_count": 130,
   "metadata": {},
   "outputs": [
    {
     "data": {
      "text/plain": [
       "9-element Vector{Float64}:\n",
       " 0.17636613718898136\n",
       " 2.994391934274809\n",
       " 2.905302600576806\n",
       " 1.7401945529137626\n",
       " 2.2697267449222425\n",
       " 2.0114338358466854\n",
       " 1.5824668119572332\n",
       " 1.533898096437981\n",
       " 2.052099122165972"
      ]
     },
     "metadata": {},
     "output_type": "display_data"
    }
   ],
   "source": [
    "#new way: \n",
    "StatsFuns.softplus.(θ_opt)"
   ]
  },
  {
   "cell_type": "markdown",
   "metadata": {},
   "source": [
    "## Prediction and validation"
   ]
  },
  {
   "cell_type": "code",
   "execution_count": 140,
   "metadata": {},
   "outputs": [],
   "source": [
    "# predict function \n",
    "function predict_new(x_test,qv,qw,θ_opt, meta)\n",
    "    prediction = @call_rule UniSGP(:out, Marginalisation) ( q_in=PointMass(x_test),\n",
    "                                                            q_v = qv, \n",
    "                                                            q_w = qw,\n",
    "                                                            q_θ=PointMass(θ_opt), \n",
    "                                                            meta=meta)\n",
    "    return prediction\n",
    "end\n",
    "Kuu = kernelmatrix(kernel_gp(θ_opt), Xu) + 1e-8 * I\n",
    "KuuL = fastcholesky!(Kuu).L\n",
    "predict_mean =[]\n",
    "for i=1:Ntest\n",
    "    prediction = predict_new(xtest[i],qv,PointMass(w_val),θ_opt,UniSGPMeta(nothing,Xu,Ψ0,Ψ1_trans,Ψ2,KuuL,kernel_gp,Lu,0,batch_size))\n",
    "    append!(predict_mean,mean(prediction))\n",
    "end"
   ]
  },
  {
   "cell_type": "code",
   "execution_count": 136,
   "metadata": {},
   "outputs": [
    {
     "name": "stdout",
     "output_type": "stream",
     "text": [
      "SMSE of GP node prediction: 0.08343114079545057\n"
     ]
    }
   ],
   "source": [
    "println(\"SMSE of GP node prediction: \",SMSE(ytest, predict_mean))"
   ]
  },
  {
   "cell_type": "code",
   "execution_count": 137,
   "metadata": {},
   "outputs": [],
   "source": [
    "save(\"../savefiles/qv_kin40k.jld\",\"qv\",qv)\n",
    "save(\"../savefiles/params_optimal_kin40k.jld\",\"params_optimal\",θ_opt)\n",
    "save(\"../savefiles/SMSE_kin40k.jld\",\"SMSE\", SMSE(ytest, predict_mean))\n",
    "save(\"../savefiles/Xu_kin40k.jld\",\"Xu\", Xu)\n",
    "# save(\"savefiles/qw_kin40k.jld\",\"qw\",qw)\n",
    "# save(\"savefiles/FE_kin40k.jld\",\"FE\",FE)"
   ]
  },
  {
   "cell_type": "code",
   "execution_count": null,
   "metadata": {},
   "outputs": [],
   "source": []
  }
 ],
 "metadata": {
  "kernelspec": {
   "display_name": "Julia 1.11.0",
   "language": "julia",
   "name": "julia-1.11"
  },
  "language_info": {
   "file_extension": ".jl",
   "mimetype": "application/julia",
   "name": "julia",
   "version": "1.11.0"
  }
 },
 "nbformat": 4,
 "nbformat_minor": 2
}
