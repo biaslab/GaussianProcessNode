{
 "cells": [
  {
   "cell_type": "code",
   "execution_count": 1,
   "metadata": {},
   "outputs": [
    {
     "name": "stderr",
     "output_type": "stream",
     "text": [
      "\u001b[32m\u001b[1m  Activating\u001b[22m\u001b[39m project at `~/PhD/GaussianProcessNode`\n"
     ]
    }
   ],
   "source": [
    "using Pkg\n",
    "Pkg.activate(\".\")"
   ]
  },
  {
   "cell_type": "code",
   "execution_count": 2,
   "metadata": {},
   "outputs": [],
   "source": [
    "using Distributions, LinearAlgebra, FFTW, ToeplitzMatrices, Distances, KernelFunctions, BenchmarkTools\n",
    "using ReactiveMP"
   ]
  },
  {
   "cell_type": "code",
   "execution_count": 3,
   "metadata": {},
   "outputs": [
    {
     "data": {
      "text/plain": [
       "Periodic_stationary_vector (generic function with 1 method)"
      ]
     },
     "metadata": {},
     "output_type": "display_data"
    }
   ],
   "source": [
    "#Sqexponential kernel with Δt argument\n",
    "function stationary_vector(delta,v,l;jitter=1e-12)\n",
    "    return v*exp.(-0.5.*delta.^2 / l) \n",
    "end\n",
    "\n",
    "# function circularizes arrays\n",
    "function circularize(arr)\n",
    "    arrlength      = length(arr)\n",
    "    circularlength = 2*(arrlength-1)\n",
    "    \n",
    "    circulararr    = Array{eltype(arr)}(undef,circularlength)\n",
    "    \n",
    "    @views circulararr[1:arrlength] .= view(arr,:,1)\n",
    "    @inbounds [circulararr[i] = arr[arrlength - i%arrlength] for i=arrlength+1:circularlength]\n",
    "    \n",
    "    return circulararr\n",
    "end\n",
    "\n",
    "function Periodic_stationary_vector(delta,v,l,p; jitter=1e-12)\n",
    "    return v * exp.(-2 * (sin.(π/p * abs.(delta))).^2 / l^2)\n",
    "end\n"
   ]
  },
  {
   "cell_type": "code",
   "execution_count": 4,
   "metadata": {},
   "outputs": [
    {
     "data": {
      "text/plain": [
       "4×4 Matrix{Float64}:\n",
       " 1.0       0.606531  0.135335  0.606531\n",
       " 0.606531  1.0       0.606531  1.0\n",
       " 0.135335  0.606531  1.0       0.606531\n",
       " 0.606531  1.0       0.606531  1.0"
      ]
     },
     "metadata": {},
     "output_type": "display_data"
    }
   ],
   "source": [
    "a = [1., 2., 3.]\n",
    "circularized_a = circularize(a)\n",
    "kernelmatrix(SqExponentialKernel(),circularized_a, circularized_a)"
   ]
  },
  {
   "cell_type": "code",
   "execution_count": 6,
   "metadata": {},
   "outputs": [],
   "source": [
    "N     = 4\n",
    "delta = collect(0:1:N)\n",
    "v     = 1.\n",
    "l     = 1\n",
    "\n",
    "circulariseddelta = circularize(delta)\n",
    "uvect = stationary_vector(circulariseddelta,v,l) + Periodic_stationary_vector(circulariseddelta,v,l,1);\n",
    "x     = zeros(length(circulariseddelta))\n",
    "x[1:length(delta)] .= rand(length(delta));\n",
    "# x = circularize(rand(length(delta)))\n",
    "uvect;"
   ]
  },
  {
   "cell_type": "code",
   "execution_count": 7,
   "metadata": {},
   "outputs": [
    {
     "data": {
      "text/plain": [
       "8-element Vector{Float64}:\n",
       " 2.0\n",
       " 1.6065306597126334\n",
       " 1.1353352832366128\n",
       " 1.0111089965382423\n",
       " 1.0003354626279024\n",
       " 1.0111089965382423\n",
       " 1.1353352832366128\n",
       " 1.6065306597126334"
      ]
     },
     "metadata": {},
     "output_type": "display_data"
    }
   ],
   "source": [
    "uvect"
   ]
  },
  {
   "cell_type": "code",
   "execution_count": 114,
   "metadata": {},
   "outputs": [
    {
     "data": {
      "text/plain": [
       "200×200 Circulant{Float64}:\n",
       " 1.0          0.606531     0.135335     …  0.135335     0.606531\n",
       " 0.606531     1.0          0.606531        0.011109     0.135335\n",
       " 0.135335     0.606531     1.0             0.000335463  0.011109\n",
       " 0.011109     0.135335     0.606531        3.72665e-6   0.000335463\n",
       " 0.000335463  0.011109     0.135335        1.523e-8     3.72665e-6\n",
       " 3.72665e-6   0.000335463  0.011109     …  2.28973e-11  1.523e-8\n",
       " 1.523e-8     3.72665e-6   0.000335463     1.26642e-14  2.28973e-11\n",
       " 2.28973e-11  1.523e-8     3.72665e-6      2.57676e-18  1.26642e-14\n",
       " 1.26642e-14  2.28973e-11  1.523e-8        1.92875e-22  2.57676e-18\n",
       " 2.57676e-18  1.26642e-14  2.28973e-11     5.31109e-27  1.92875e-22\n",
       " ⋮                                      ⋱               \n",
       " 2.57676e-18  1.92875e-22  5.31109e-27     2.28973e-11  1.26642e-14\n",
       " 1.26642e-14  2.57676e-18  1.92875e-22     1.523e-8     2.28973e-11\n",
       " 2.28973e-11  1.26642e-14  2.57676e-18     3.72665e-6   1.523e-8\n",
       " 1.523e-8     2.28973e-11  1.26642e-14     0.000335463  3.72665e-6\n",
       " 3.72665e-6   1.523e-8     2.28973e-11  …  0.011109     0.000335463\n",
       " 0.000335463  3.72665e-6   1.523e-8        0.135335     0.011109\n",
       " 0.011109     0.000335463  3.72665e-6      0.606531     0.135335\n",
       " 0.135335     0.011109     0.000335463     1.0          0.606531\n",
       " 0.606531     0.135335     0.011109        0.606531     1.0"
      ]
     },
     "metadata": {},
     "output_type": "display_data"
    }
   ],
   "source": [
    "circulantcov = Circulant(uvect);\n",
    "# println(\"Circulant cov is posdef: \" , isposdef(circulantcov))\n",
    "# println(\"Circulant cov is symmetric: \" , issymmetric(circulantcov))"
   ]
  },
  {
   "cell_type": "code",
   "execution_count": 99,
   "metadata": {},
   "outputs": [],
   "source": [
    "truekernelmatrix = circulantcov[1:length(delta),1:length(delta)];\n",
    "# submatrixA       = truekernelmatrix\n",
    "# submatrixB       = circulantcov[1:length(delta),length(delta)+1:end]; #A and B are transpose of each other\n",
    "# submatrixC       = circulantcov[length(delta)+1:end,1:length(delta)];\n",
    "submatrixD       = circulantcov[length(delta)+1:end, length(delta)+1:end];\n"
   ]
  },
  {
   "cell_type": "code",
   "execution_count": 17,
   "metadata": {},
   "outputs": [
    {
     "data": {
      "text/plain": [
       "fastinvmahalanobis (generic function with 1 method)"
      ]
     },
     "metadata": {},
     "output_type": "display_data"
    }
   ],
   "source": [
    "function returnFFTstructures(circularvector)\n",
    "    N                   = length(circularvector)\n",
    "    n                   = Int(N/2 + 1)\n",
    "    Afftmatrix          = plan_rfft(circularvector)\n",
    "    afft                = Vector{ComplexF64}(undef, n)\n",
    "    bfft                = Vector{ComplexF64}(undef, n)\n",
    "    cfft                = Vector{Float64}(undef, N)\n",
    "    Ainvfftmatrix       = plan_irfft(afft, N)\n",
    "    \n",
    "    return Afftmatrix,Ainvfftmatrix,afft,bfft,cfft \n",
    "end\n",
    "\n",
    "\n",
    "function fastmultiply(a, b , Afftmatrix, Ainvfftmatrix,afft,bfft,cfft)\n",
    "   \n",
    "    mul!(afft, Afftmatrix, a)\n",
    "    mul!(bfft, Afftmatrix, b)\n",
    "    \n",
    "    afft .*= bfft\n",
    "    return mul!(cfft, Ainvfftmatrix, afft)\n",
    "end\n",
    "\n",
    "function fastinversemultiply(a, b , Afftmatrix, Ainvfftmatrix,afft,bfft,cfft)\n",
    "   \n",
    "    mul!(afft, Afftmatrix, a)\n",
    "    mul!(bfft, Afftmatrix, b)\n",
    "    \n",
    "    bfft ./= afft\n",
    "    return mul!(cfft, Ainvfftmatrix, bfft)\n",
    "end\n",
    "\n",
    "\n",
    "\n",
    "function fastmahalanobis(a, b , Afftmatrix,afft,bfft)\n",
    "    mul!(afft, Afftmatrix, a)\n",
    "    mul!(bfft, Afftmatrix, b)\n",
    "    return real((2*sum(afft .* abs.(bfft).^2) - (afft[1] * abs(bfft[1])^2 + afft[length(afft)] * abs(bfft[length(afft)])^2))/length(a))\n",
    "end\n",
    "\n",
    "\n",
    "function fastinvmahalanobis(a, b , Afftmatrix,afft,bfft)\n",
    "    mul!(afft, Afftmatrix, a)\n",
    "    mul!(bfft, Afftmatrix, b)\n",
    "    \n",
    "    return real((2*sum(abs.(bfft).^2 ./ afft) - (abs(bfft[1])^2/afft[1] + abs(bfft[length(afft)])^2/afft[length(afft)]))/length(a))\n",
    "end"
   ]
  },
  {
   "cell_type": "code",
   "execution_count": 18,
   "metadata": {},
   "outputs": [],
   "source": [
    "Afftmatrix, Ainvfftmatrix,afft,bfft,cfft = returnFFTstructures(uvect);"
   ]
  },
  {
   "cell_type": "code",
   "execution_count": 116,
   "metadata": {},
   "outputs": [],
   "source": [
    "test1 = rand(200);"
   ]
  },
  {
   "cell_type": "code",
   "execution_count": 117,
   "metadata": {},
   "outputs": [
    {
     "name": "stdout",
     "output_type": "stream",
     "text": [
      "  54.167 μs (60 allocations: 20.05 KiB)\n"
     ]
    }
   ],
   "source": [
    "@btime groundtruth = test1' * inv(circulantcov) * test1;"
   ]
  },
  {
   "cell_type": "code",
   "execution_count": 118,
   "metadata": {},
   "outputs": [
    {
     "name": "stdout",
     "output_type": "stream",
     "text": [
      "  1.450 μs (2 allocations: 1.78 KiB)\n"
     ]
    }
   ],
   "source": [
    "@btime fastcalculation = fastinvmahalanobis(uvect, test1, Afftmatrix,afft,bfft);"
   ]
  },
  {
   "cell_type": "code",
   "execution_count": 110,
   "metadata": {},
   "outputs": [
    {
     "data": {
      "text/plain": [
       "true"
      ]
     },
     "metadata": {},
     "output_type": "display_data"
    }
   ],
   "source": [
    "groundtruth  ≈ fastcalculation"
   ]
  },
  {
   "cell_type": "code",
   "execution_count": 47,
   "metadata": {},
   "outputs": [],
   "source": [
    "xtrain = [.6, 1.1]\n",
    "xtest  = [0.6, 1.1]\n",
    "x      = vcat(xtrain,xtest)\n",
    "\n",
    "Kxtrainxtrain  = stationary_vector([xtrain[i] - xtrain[j] for i=1:length(xtrain), j=1:length(xtrain)],v,l)\n",
    "Kxtestxtest = stationary_vector([xtest[i] - xtest[j] for i=1:length(xtest), j=1:length(xtest)],v,l)\n",
    "Kxx         = stationary_vector([xtest[i] - xtrain[j] for i=1:length(xtest), j=1:length(xtrain)],v,l)\n",
    "\n",
    "\n",
    "deltatrain = xtrain .- xtrain[1]\n",
    "deltatest  = xtest .- xtest[1]\n",
    "delta      = vec([xtest[i] - xtrain[j] for i=1:length(xtest), j=1:length(xtrain)])\n",
    "\n",
    "circulardeltatrain = circularize(deltatrain)\n",
    "circulardeltatest  = circularize(deltatest);\n",
    "circulardelta      = circularize(delta);\n",
    "\n",
    "\n",
    "circulantKxtrainKxtrain = Circulant(stationary_vector(circulardeltatrain,v,l))\n",
    "circulantKxtestKxtest   = Circulant(stationary_vector(circulardeltatest, v,l))\n",
    "circulantKxx            = Circulant(stationary_vector(circulardelta,     v,l));"
   ]
  },
  {
   "cell_type": "code",
   "execution_count": 48,
   "metadata": {},
   "outputs": [
    {
     "data": {
      "text/plain": [
       "2×2 Matrix{Float64}:\n",
       " 0.0  0.0\n",
       " 0.0  0.0"
      ]
     },
     "metadata": {},
     "output_type": "display_data"
    }
   ],
   "source": [
    "GOLD = Kxtestxtest - Kxx*inv(Kxtrainxtrain)*Kxx'"
   ]
  },
  {
   "cell_type": "code",
   "execution_count": 49,
   "metadata": {},
   "outputs": [
    {
     "data": {
      "text/plain": [
       "4-element Vector{Float64}:\n",
       "  0.0\n",
       "  0.5000000000000001\n",
       " -0.5000000000000001\n",
       "  0.0"
      ]
     },
     "metadata": {},
     "output_type": "display_data"
    }
   ],
   "source": [
    "delta"
   ]
  },
  {
   "cell_type": "code",
   "execution_count": 50,
   "metadata": {},
   "outputs": [
    {
     "data": {
      "text/plain": [
       "6×6 Circulant{Float64}:\n",
       " 1.0       0.882497  0.882497  1.0       0.882497  0.882497\n",
       " 0.882497  1.0       0.882497  0.882497  1.0       0.882497\n",
       " 0.882497  0.882497  1.0       0.882497  0.882497  1.0\n",
       " 1.0       0.882497  0.882497  1.0       0.882497  0.882497\n",
       " 0.882497  1.0       0.882497  0.882497  1.0       0.882497\n",
       " 0.882497  0.882497  1.0       0.882497  0.882497  1.0"
      ]
     },
     "metadata": {},
     "output_type": "display_data"
    }
   ],
   "source": [
    "circulantKxx"
   ]
  },
  {
   "attachments": {},
   "cell_type": "markdown",
   "metadata": {},
   "source": [
    "## See how I can apply this for gp "
   ]
  },
  {
   "cell_type": "code",
   "execution_count": 9,
   "metadata": {},
   "outputs": [
    {
     "data": {
      "text/plain": [
       "3×3 Matrix{Float64}:\n",
       " 1.0       0.606531  0.135335\n",
       " 0.606531  1.0       0.606531\n",
       " 0.135335  0.606531  1.0"
      ]
     },
     "metadata": {},
     "output_type": "display_data"
    }
   ],
   "source": [
    "xtrain = [1., 2., 3.]\n",
    "xtest = [1., 2., 3.]\n",
    "\n",
    "Ktrain = stationary_vector([xtrain[i] - xtrain[j] for i=1:length(xtrain), j=1:length(xtrain)],v,l)\n",
    "Ktest = stationary_vector([xtest[i] - xtest[j] for i=1:length(xtest), j=1:length(xtest)],v,l)\n",
    "Ktesttrain = stationary_vector([xtest[i] - xtrain[j] for i=1:length(xtest), j=1:length(xtrain)],v,l)"
   ]
  },
  {
   "cell_type": "code",
   "execution_count": 23,
   "metadata": {},
   "outputs": [
    {
     "data": {
      "text/plain": [
       "4×4 Circulant{Float64}:\n",
       " 1.0       0.606531  0.135335  0.606531\n",
       " 0.606531  1.0       0.606531  0.135335\n",
       " 0.135335  0.606531  1.0       0.606531\n",
       " 0.606531  0.135335  0.606531  1.0"
      ]
     },
     "metadata": {},
     "output_type": "display_data"
    }
   ],
   "source": [
    "delta_xtrain = xtrain .- xtrain[1]\n",
    "circular_delta_xtrain = circularize(delta_xtrain)\n",
    "stationary_vectrain = stationary_vector(circular_delta_xtrain,v,l)\n",
    "circulantmatrix_Ktrain = Circulant(stationary_vectrain)"
   ]
  },
  {
   "cell_type": "code",
   "execution_count": 45,
   "metadata": {},
   "outputs": [
    {
     "data": {
      "text/plain": [
       "4×4 Matrix{Float64}:\n",
       " 1.00069   0.606531  0.135335  0.606531\n",
       " 0.606531  1.00047   0.606531  0.135335\n",
       " 0.135335  0.606531  1.00067   0.606531\n",
       " 0.606531  0.135335  0.606531  1.00047"
      ]
     },
     "metadata": {},
     "output_type": "display_data"
    }
   ],
   "source": [
    "#create noisy circulantmatrix \n",
    "Σ_noise = Diagonal(circularize(0.001*rand(length(delta_xtrain))))\n",
    "noisy_circulantmatrix_Ktrain = circulantmatrix_Ktrain + Σ_noise"
   ]
  },
  {
   "cell_type": "code",
   "execution_count": 33,
   "metadata": {},
   "outputs": [
    {
     "data": {
      "text/plain": [
       "4-element Vector{Float64}:\n",
       " 0.4805587179773715\n",
       " 0.31234857967520624\n",
       " 0.5188391023586912\n",
       " 0.055989195485337206"
      ]
     },
     "metadata": {},
     "output_type": "display_data"
    }
   ],
   "source": [
    "test = rand(length(circular_delta_xtrain))"
   ]
  },
  {
   "cell_type": "code",
   "execution_count": 34,
   "metadata": {},
   "outputs": [],
   "source": [
    "Afftmatrix, Ainvfftmatrix,afft,bfft,cfft = returnFFTstructures(circular_delta_xtrain);"
   ]
  },
  {
   "cell_type": "code",
   "execution_count": 46,
   "metadata": {},
   "outputs": [
    {
     "data": {
      "text/plain": [
       "4-element Vector{Float64}:\n",
       " -1.9211415613763048\n",
       "  2.3385210750349894\n",
       " -1.876950122500393\n",
       "  2.042198857893046"
      ]
     },
     "metadata": {},
     "output_type": "display_data"
    }
   ],
   "source": [
    "vec_gt = inv(noisy_circulantmatrix_Ktrain) * test "
   ]
  },
  {
   "cell_type": "code",
   "execution_count": 47,
   "metadata": {},
   "outputs": [
    {
     "data": {
      "text/plain": [
       "4-element Vector{Float64}:\n",
       " -1.9062904209295433\n",
       "  2.3236027889188797\n",
       " -1.8620184810213083\n",
       "  2.027118638218856"
      ]
     },
     "metadata": {},
     "output_type": "display_data"
    }
   ],
   "source": [
    "vec_fast = fastinversemultiply(stationary_vectrain,test,Afftmatrix,Ainvfftmatrix,afft,bfft,cfft)"
   ]
  },
  {
   "cell_type": "code",
   "execution_count": 48,
   "metadata": {},
   "outputs": [
    {
     "data": {
      "text/plain": [
       "0.029891111988236393"
      ]
     },
     "metadata": {},
     "output_type": "display_data"
    }
   ],
   "source": [
    "norm(vec_gt - vec_fast)"
   ]
  },
  {
   "cell_type": "code",
   "execution_count": null,
   "metadata": {},
   "outputs": [],
   "source": []
  }
 ],
 "metadata": {
  "kernelspec": {
   "display_name": "Julia 1.8.3",
   "language": "julia",
   "name": "julia-1.8"
  },
  "language_info": {
   "file_extension": ".jl",
   "mimetype": "application/julia",
   "name": "julia",
   "version": "1.8.3"
  }
 },
 "nbformat": 4,
 "nbformat_minor": 2
}
