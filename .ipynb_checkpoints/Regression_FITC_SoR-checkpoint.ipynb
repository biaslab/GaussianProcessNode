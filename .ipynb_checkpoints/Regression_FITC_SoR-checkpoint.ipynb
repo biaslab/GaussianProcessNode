{
 "cells": [
  {
   "cell_type": "code",
   "execution_count": 1,
   "metadata": {},
   "outputs": [
    {
     "name": "stderr",
     "output_type": "stream",
     "text": [
      "\u001b[32m\u001b[1m  Activating\u001b[22m\u001b[39m project at `~/PhD/GaussianProcessNode/OldEnvironment`\n"
     ]
    }
   ],
   "source": [
    "using Pkg\n",
    "Pkg.activate(\"OldEnvironment\")"
   ]
  },
  {
   "cell_type": "code",
   "execution_count": 2,
   "metadata": {},
   "outputs": [],
   "source": [
    "using GaussianProcesses, Optim, LinearAlgebra,Statistics\n",
    "using JLD, MAT "
   ]
  },
  {
   "cell_type": "markdown",
   "metadata": {},
   "source": [
    "## Useful function"
   ]
  },
  {
   "cell_type": "code",
   "execution_count": 3,
   "metadata": {},
   "outputs": [
    {
     "data": {
      "text/plain": [
       "SMSE (generic function with 1 method)"
      ]
     },
     "execution_count": 3,
     "metadata": {},
     "output_type": "execute_result"
    }
   ],
   "source": [
    "# standardized mean squared error (for regression)\n",
    "function SMSE(y_true, y_approx)\n",
    "    N = length(y_true)\n",
    "    mse = norm(y_true - y_approx)^2 / N \n",
    "    return mse / var(y_true)\n",
    "end"
   ]
  },
  {
   "cell_type": "markdown",
   "metadata": {},
   "source": [
    "## Toy dataset "
   ]
  },
  {
   "cell_type": "code",
   "execution_count": 4,
   "metadata": {},
   "outputs": [],
   "source": [
    "#load data \n",
    "data_path = \"savefiles/\" \n",
    "xtrain = load(data_path*\"xtrain_toyregression.jld\")[\"xtrain\"]\n",
    "ytrain = load(data_path*\"ytrain_toyregression.jld\")[\"ytrain\"]\n",
    "\n",
    "xtest = load(data_path*\"xtest_toyregression.jld\")[\"xtest\"]\n",
    "ytest = load(data_path*\"ytest_toyregression.jld\")[\"ytest\"]\n",
    "\n",
    "Xu = load(data_path*\"Xu_toyregression.jld\")[\"Xu\"];\n"
   ]
  },
  {
   "cell_type": "code",
   "execution_count": 5,
   "metadata": {},
   "outputs": [
    {
     "name": "stdout",
     "output_type": "stream",
     "text": [
      "PosDefException(13)\n",
      "PosDefException(11)\n",
      "PosDefException(5)\n",
      "PosDefException(13)\n"
     ]
    }
   ],
   "source": [
    "mat_Xu = Matrix(Xu')\n",
    "mat_xtrain = Matrix(xtrain')\n",
    "## SoR\n",
    "k_sor = SE(0.0, 0.0)\n",
    "gp_sor = GaussianProcesses.SoR(mat_xtrain, mat_Xu, ytrain, MeanZero(), k_sor, log(1.0));\n",
    "optimize!(gp_sor;method=ConjugateGradient());\n",
    "μ_sor_predict, cov_sor_predict = predict_f(gp_sor, xtest; full_cov=true);\n",
    "\n",
    "## FITC\n",
    "k_fitc = SE(-0.5, -0.5)\n",
    "gp_fitc = GaussianProcesses.FITC(mat_xtrain, mat_Xu, ytrain, MeanZero(), k_fitc, log(1.0));\n",
    "optimize!(gp_fitc;method=ConjugateGradient());\n",
    "μ_fitc_predict, cov_fitc_predict = predict_f(gp_fitc, xtest; full_cov=true);"
   ]
  },
  {
   "cell_type": "code",
   "execution_count": 6,
   "metadata": {},
   "outputs": [
    {
     "name": "stdout",
     "output_type": "stream",
     "text": [
      "SMSE of SoR on toy dataset: 0.008066139065111414\n",
      "SMSE of FITC on toy dataset: 0.008064385190731424\n"
     ]
    }
   ],
   "source": [
    "println(\"SMSE of SoR on toy dataset: \",SMSE(ytest, μ_sor_predict))\n",
    "println(\"SMSE of FITC on toy dataset: \",SMSE(ytest, μ_fitc_predict))"
   ]
  },
  {
   "cell_type": "markdown",
   "metadata": {},
   "source": [
    "## Kin40k dataset"
   ]
  },
  {
   "cell_type": "code",
   "execution_count": 7,
   "metadata": {},
   "outputs": [],
   "source": [
    "xtrain_kin40 = matopen(\"data/kin40k/kin40k_xtrain.mat\");\n",
    "xtest_kin40 = matopen(\"data/kin40k/kin40k_xtest.mat\");\n",
    "ytrain_kin40 = matopen(\"data/kin40k/kin40k_ytrain.mat\");\n",
    "ytest_kin40 = matopen(\"data/kin40k/kin40k_ytest.mat\");\n",
    "\n",
    "xtrain_kin40 = read(xtrain_kin40, \"xtrain\") |> (x) -> Matrix(x');\n",
    "ytrain_kin40 = read(ytrain_kin40, \"ytrain\") |> (x) -> vcat(x...);\n",
    "xtest_kin40 = read(xtest_kin40, \"xtest\") |> (x) -> Matrix(x');\n",
    "ytest_kin40 = read(ytest_kin40, \"ytest\") |> (x) -> vcat(x...);\n",
    "\n",
    "Xu_kin40 = load(data_path*\"Xu_kin40k.jld\")[\"Xu\"] |> (x) -> hcat(x...);"
   ]
  },
  {
   "cell_type": "code",
   "execution_count": null,
   "metadata": {},
   "outputs": [
    {
     "name": "stdout",
     "output_type": "stream",
     "text": [
      "PosDefException(3)\n",
      "PosDefException(12)\n",
      "PosDefException("
     ]
    }
   ],
   "source": [
    "# SoR \n",
    "kernel_sor_kin40 = SEArd([0.0, 0.0, 0.0, 0.0, 0.0, 0.0, 0.0, 0.0], 0.0)\n",
    "gp_sor_kin40 = GaussianProcesses.SoR(xtrain_kin40, Xu_kin40, ytrain_kin40, MeanZero(), kernel_sor_kin40, log(1.0));\n",
    "optimize!(gp_sor_kin40;method=LBFGS(),time_limit = 100);\n",
    "μ_sor_predict_kin40, cov_sor_predict_kin40 = predict_f(gp_sor_kin40, xtest_kin40; full_cov=true);\n"
   ]
  },
  {
   "cell_type": "code",
   "execution_count": null,
   "metadata": {},
   "outputs": [],
   "source": [
    "# FITC  \n",
    "kernel_fitc_kin40 = SEArd(ones(8), 1.0)\n",
    "gp_fitc_kin40 = GaussianProcesses.FITC(xtrain_kin40, Xu_kin40, ytrain_kin40, MeanZero(), kernel_fitc_kin40, log(1.0));\n",
    "optimize!(gp_fitc_kin40;method=LBFGS(), time_limit = 100);\n",
    "μ_fitc_predict_kin40, cov_fitc_predict_kin40 = predict_f(gp_fitc_kin40, xtest_kin40; full_cov=true);"
   ]
  },
  {
   "cell_type": "code",
   "execution_count": 1,
   "metadata": {},
   "outputs": [
    {
     "ename": "UndefVarError",
     "evalue": "UndefVarError: `SMSE` not defined in `Main`\nSuggestion: check for spelling errors or missing imports.",
     "output_type": "error",
     "traceback": [
      "UndefVarError: `SMSE` not defined in `Main`\n",
      "Suggestion: check for spelling errors or missing imports.\n",
      "\n",
      "Stacktrace:\n",
      " [1] top-level scope\n",
      "   @ ~/PhD/GaussianProcessNode/jl_notebook_cell_df34fa98e69747e1a8f8a730347b8e2f_X15sZmlsZQ==.jl:1"
     ]
    }
   ],
   "source": [
    "println(\"SMSE of SoR on kin40k dataset: \",SMSE(ytest_kin40, μ_sor_predict_kin40))\n",
    "println(\"SMSE of FITC on kin40k dataset: \",SMSE(ytest_kin40, μ_fitc_predict_kin40))"
   ]
  },
  {
   "cell_type": "code",
   "execution_count": 37,
   "metadata": {},
   "outputs": [
    {
     "data": {
      "text/plain": [
       "-2414.129467787923"
      ]
     },
     "metadata": {},
     "output_type": "display_data"
    }
   ],
   "source": [
    "gp_sor_kin40.mll"
   ]
  },
  {
   "cell_type": "code",
   "execution_count": null,
   "metadata": {},
   "outputs": [],
   "source": [
    "#time_limit = 1, mll of gpsor = -9826.430089747224\n",
    "#time_limit = 10, mll of gpsor = -7932.8113930092095\n",
    "#time_limit = 50, mll of gpsor = -2356.7273045562843\n",
    "#time_limit = 100, mll of gpsor = -2323.6661106932515\n",
    "#time_limit = 150, mll of gpsor = -2323.666221636374\n"
   ]
  }
 ],
 "metadata": {
  "kernelspec": {
   "display_name": "Julia 1.11.0",
   "language": "julia",
   "name": "julia-1.11"
  },
  "language_info": {
   "file_extension": ".jl",
   "mimetype": "application/julia",
   "name": "julia",
   "version": "1.11.0"
  }
 },
 "nbformat": 4,
 "nbformat_minor": 2
}
