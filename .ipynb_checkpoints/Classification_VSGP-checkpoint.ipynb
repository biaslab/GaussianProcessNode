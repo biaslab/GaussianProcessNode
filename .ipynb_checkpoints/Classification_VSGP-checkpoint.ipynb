{
 "cells": [
  {
   "cell_type": "code",
   "execution_count": 1,
   "metadata": {},
   "outputs": [
    {
     "name": "stderr",
     "output_type": "stream",
     "text": [
      "\u001b[32m\u001b[1m  Activating\u001b[22m\u001b[39m project at `~/PhD/GaussianProcessNode/OldEnvironment`\n"
     ]
    }
   ],
   "source": [
    "using Pkg\n",
    "Pkg.activate(\"OldEnvironment\")"
   ]
  },
  {
   "cell_type": "code",
   "execution_count": 120,
   "metadata": {},
   "outputs": [],
   "source": [
    "using ApproximateGPs\n",
    "using ParameterHandling\n",
    "using Zygote, StatsFuns\n",
    "using Distributions\n",
    "using LinearAlgebra\n",
    "using Optim\n",
    "using JLD, MAT "
   ]
  },
  {
   "cell_type": "markdown",
   "metadata": {},
   "source": [
    "## Toy dataset"
   ]
  },
  {
   "cell_type": "code",
   "execution_count": 188,
   "metadata": {},
   "outputs": [],
   "source": [
    "#load data \n",
    "#load data \n",
    "data_path = \"savefiles/\" \n",
    "xtrain = load(data_path*\"xtrain_toyclassification.jld\")[\"xtrain\"]\n",
    "ytrain = load(data_path*\"ytrain_toyclassification.jld\")[\"ytrain\"]\n",
    "\n",
    "xtest = load(data_path*\"xtest_toyclassification.jld\")[\"xtest\"]\n",
    "ytest = load(data_path*\"ytest_toyclassification.jld\")[\"ytest\"]\n",
    "\n",
    "Xu = load(data_path*\"Xu_toyclassification.jld\")[\"Xu\"];\n",
    "M = length(Xu);\n",
    "N = length(ytrain);"
   ]
  },
  {
   "cell_type": "code",
   "execution_count": 154,
   "metadata": {},
   "outputs": [],
   "source": [
    "raw_initial_params = (\n",
    "    k=(var=positive(1.0), precision=positive(1.0)),\n",
    "    z=bounded.(Xu, -6.0, 6.0),  # constrain z to simplify optimisation\n",
    "    m=zeros(M),\n",
    "    A=positive_definite(Matrix{Float64}(I, M, M)),\n",
    ");\n",
    "flat_init_params, unflatten = ParameterHandling.flatten(raw_initial_params)\n",
    "unpack = ParameterHandling.value ∘ unflatten;"
   ]
  },
  {
   "cell_type": "code",
   "execution_count": 156,
   "metadata": {},
   "outputs": [],
   "source": [
    "lik = BernoulliLikelihood()\n",
    "jitter = 1e-3  # added to aid numerical stability\n",
    "\n",
    "function build_SVGP(params::NamedTuple)\n",
    "    kernel = params.k.var * with_lengthscale(SqExponentialKernel(),params.k.precision)\n",
    "    f = LatentGP(GP(kernel), lik, jitter)\n",
    "    q = MvNormal(params.m, params.A)\n",
    "    fz = f(params.z).fx\n",
    "    return SparseVariationalApproximation(fz, q), f\n",
    "end\n",
    "\n",
    "function loss(params::NamedTuple;x=xtrain,y=ytrain)\n",
    "    svgp, f = build_SVGP(params)\n",
    "    fx = f(xtrain)\n",
    "    return -elbo(svgp, fx, ytrain)\n",
    "end;"
   ]
  },
  {
   "cell_type": "code",
   "execution_count": 157,
   "metadata": {},
   "outputs": [
    {
     "data": {
      "text/plain": [
       " * Status: failure (reached maximum number of iterations)\n",
       "\n",
       " * Candidate solution\n",
       "    Final objective value:     3.066163e+01\n",
       "\n",
       " * Found with\n",
       "    Algorithm:     L-BFGS\n",
       "\n",
       " * Convergence measures\n",
       "    |x - x'|               = 4.46e-04 ≰ 0.0e+00\n",
       "    |x - x'|/|x'|          = 1.73e-04 ≰ 0.0e+00\n",
       "    |f(x) - f(x')|         = 2.07e-08 ≰ 0.0e+00\n",
       "    |f(x) - f(x')|/|f(x')| = 6.74e-10 ≰ 0.0e+00\n",
       "    |g(x)|                 = 3.20e-04 ≰ 1.0e-08\n",
       "\n",
       " * Work counters\n",
       "    Seconds run:   112  (vs limit Inf)\n",
       "    Iterations:    4000\n",
       "    f(x) calls:    11621\n",
       "    ∇f(x) calls:   11621\n"
      ]
     },
     "execution_count": 157,
     "metadata": {},
     "output_type": "execute_result"
    }
   ],
   "source": [
    "opt = optimize(\n",
    "    loss ∘ unpack,\n",
    "    θ -> only(Zygote.gradient(loss ∘ unpack, θ)),\n",
    "    flat_init_params,\n",
    "    LBFGS(),\n",
    "    Optim.Options(; iterations=4_000);\n",
    "    inplace=false,\n",
    ")"
   ]
  },
  {
   "cell_type": "code",
   "execution_count": 158,
   "metadata": {},
   "outputs": [],
   "source": [
    "final_params = unpack(opt.minimizer)\n",
    "\n",
    "svgp_opt, f_opt = build_SVGP(final_params)\n",
    "post_opt = posterior(svgp_opt)\n",
    "l_post_opt = LatentGP(post_opt, BernoulliLikelihood(), jitter);"
   ]
  },
  {
   "cell_type": "code",
   "execution_count": 189,
   "metadata": {},
   "outputs": [],
   "source": [
    "predict_mean = mean(post_opt(xtest))\n",
    "p_predict = normcdf.(predict_mean)\n",
    "\n",
    "predict_bin = zeros(length(p_predict))\n",
    "for i=1:length(p_predict)\n",
    "    p_predict[i] > 0.5 ? predict_bin[i] = 1.0 : predict_bin[i] = 0.0\n",
    "end"
   ]
  },
  {
   "cell_type": "code",
   "execution_count": 190,
   "metadata": {},
   "outputs": [
    {
     "data": {
      "text/plain": [
       "error_rate (generic function with 1 method)"
      ]
     },
     "execution_count": 190,
     "metadata": {},
     "output_type": "execute_result"
    }
   ],
   "source": [
    "# count number of errors (for classification)\n",
    "function num_error(ytrue, y)\n",
    "    return sum(abs.(y - ytrue))\n",
    "end\n",
    "\n",
    "function error_rate(ytrue, y)\n",
    "    return num_error(ytrue,y) / length(ytrue)\n",
    "end"
   ]
  },
  {
   "cell_type": "code",
   "execution_count": 191,
   "metadata": {},
   "outputs": [
    {
     "name": "stdout",
     "output_type": "stream",
     "text": [
      "Number of error:46.0\n",
      "Error rate: 0.115\n"
     ]
    }
   ],
   "source": [
    "println(\"Number of error:\", num_error(ytest, predict_bin))\n",
    "println(\"Error rate: \", error_rate(ytest, predict_bin))"
   ]
  },
  {
   "cell_type": "code",
   "execution_count": null,
   "metadata": {},
   "outputs": [],
   "source": []
  }
 ],
 "metadata": {
  "kernelspec": {
   "display_name": "Julia 1.11.0",
   "language": "julia",
   "name": "julia-1.11"
  },
  "language_info": {
   "file_extension": ".jl",
   "mimetype": "application/julia",
   "name": "julia",
   "version": "1.11.0"
  }
 },
 "nbformat": 4,
 "nbformat_minor": 2
}
